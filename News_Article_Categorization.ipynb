{
  "cells": [
    {
      "cell_type": "markdown",
      "metadata": {
        "id": "view-in-github",
        "colab_type": "text"
      },
      "source": [
        "<a href=\"https://colab.research.google.com/github/MarcoMosconi/News-Article-Categorization/blob/main/News_Article_Categorization.ipynb\" target=\"_parent\"><img src=\"https://colab.research.google.com/assets/colab-badge.svg\" alt=\"Open In Colab\"/></a>"
      ]
    },
    {
      "cell_type": "markdown",
      "metadata": {
        "id": "l7zz7sjz5cZj"
      },
      "source": [
        "### Necessary packages"
      ]
    },
    {
      "cell_type": "code",
      "execution_count": null,
      "metadata": {
        "colab": {
          "base_uri": "https://localhost:8080/"
        },
        "id": "nhcO-ZUCBmrG",
        "outputId": "ce1dc7a5-04c4-4778-9cf3-4636c4ee6a72"
      },
      "outputs": [
        {
          "name": "stdout",
          "output_type": "stream",
          "text": [
            "Requirement already satisfied: transformers in /home/ec2-user/anaconda3/envs/python3/lib/python3.10/site-packages (4.41.2)\n",
            "Requirement already satisfied: torch in /home/ec2-user/anaconda3/envs/python3/lib/python3.10/site-packages (2.3.0)\n",
            "Requirement already satisfied: scikit-learn in /home/ec2-user/anaconda3/envs/python3/lib/python3.10/site-packages (1.4.1.post1)\n",
            "Requirement already satisfied: datasets in /home/ec2-user/anaconda3/envs/python3/lib/python3.10/site-packages (2.19.1)\n",
            "Requirement already satisfied: filelock in /home/ec2-user/anaconda3/envs/python3/lib/python3.10/site-packages (from transformers) (3.13.3)\n",
            "Requirement already satisfied: huggingface-hub<1.0,>=0.23.0 in /home/ec2-user/anaconda3/envs/python3/lib/python3.10/site-packages (from transformers) (0.23.2)\n",
            "Requirement already satisfied: numpy>=1.17 in /home/ec2-user/anaconda3/envs/python3/lib/python3.10/site-packages (from transformers) (1.22.4)\n",
            "Requirement already satisfied: packaging>=20.0 in /home/ec2-user/anaconda3/envs/python3/lib/python3.10/site-packages (from transformers) (21.3)\n",
            "Requirement already satisfied: pyyaml>=5.1 in /home/ec2-user/anaconda3/envs/python3/lib/python3.10/site-packages (from transformers) (6.0.1)\n",
            "Requirement already satisfied: regex!=2019.12.17 in /home/ec2-user/anaconda3/envs/python3/lib/python3.10/site-packages (from transformers) (2023.12.25)\n",
            "Requirement already satisfied: requests in /home/ec2-user/anaconda3/envs/python3/lib/python3.10/site-packages (from transformers) (2.31.0)\n",
            "Requirement already satisfied: tokenizers<0.20,>=0.19 in /home/ec2-user/anaconda3/envs/python3/lib/python3.10/site-packages (from transformers) (0.19.1)\n",
            "Requirement already satisfied: safetensors>=0.4.1 in /home/ec2-user/anaconda3/envs/python3/lib/python3.10/site-packages (from transformers) (0.4.3)\n",
            "Requirement already satisfied: tqdm>=4.27 in /home/ec2-user/anaconda3/envs/python3/lib/python3.10/site-packages (from transformers) (4.66.2)\n",
            "Requirement already satisfied: typing-extensions>=4.8.0 in /home/ec2-user/anaconda3/envs/python3/lib/python3.10/site-packages (from torch) (4.10.0)\n",
            "Requirement already satisfied: sympy in /home/ec2-user/anaconda3/envs/python3/lib/python3.10/site-packages (from torch) (1.12)\n",
            "Requirement already satisfied: networkx in /home/ec2-user/anaconda3/envs/python3/lib/python3.10/site-packages (from torch) (3.2.1)\n",
            "Requirement already satisfied: jinja2 in /home/ec2-user/anaconda3/envs/python3/lib/python3.10/site-packages (from torch) (3.1.3)\n",
            "Requirement already satisfied: fsspec in /home/ec2-user/anaconda3/envs/python3/lib/python3.10/site-packages (from torch) (2024.3.1)\n",
            "Requirement already satisfied: nvidia-cuda-nvrtc-cu12==12.1.105 in /home/ec2-user/anaconda3/envs/python3/lib/python3.10/site-packages (from torch) (12.1.105)\n",
            "Requirement already satisfied: nvidia-cuda-runtime-cu12==12.1.105 in /home/ec2-user/anaconda3/envs/python3/lib/python3.10/site-packages (from torch) (12.1.105)\n",
            "Requirement already satisfied: nvidia-cuda-cupti-cu12==12.1.105 in /home/ec2-user/anaconda3/envs/python3/lib/python3.10/site-packages (from torch) (12.1.105)\n",
            "Requirement already satisfied: nvidia-cudnn-cu12==8.9.2.26 in /home/ec2-user/anaconda3/envs/python3/lib/python3.10/site-packages (from torch) (8.9.2.26)\n",
            "Requirement already satisfied: nvidia-cublas-cu12==12.1.3.1 in /home/ec2-user/anaconda3/envs/python3/lib/python3.10/site-packages (from torch) (12.1.3.1)\n",
            "Requirement already satisfied: nvidia-cufft-cu12==11.0.2.54 in /home/ec2-user/anaconda3/envs/python3/lib/python3.10/site-packages (from torch) (11.0.2.54)\n",
            "Requirement already satisfied: nvidia-curand-cu12==10.3.2.106 in /home/ec2-user/anaconda3/envs/python3/lib/python3.10/site-packages (from torch) (10.3.2.106)\n",
            "Requirement already satisfied: nvidia-cusolver-cu12==11.4.5.107 in /home/ec2-user/anaconda3/envs/python3/lib/python3.10/site-packages (from torch) (11.4.5.107)\n",
            "Requirement already satisfied: nvidia-cusparse-cu12==12.1.0.106 in /home/ec2-user/anaconda3/envs/python3/lib/python3.10/site-packages (from torch) (12.1.0.106)\n",
            "Requirement already satisfied: nvidia-nccl-cu12==2.20.5 in /home/ec2-user/anaconda3/envs/python3/lib/python3.10/site-packages (from torch) (2.20.5)\n",
            "Requirement already satisfied: nvidia-nvtx-cu12==12.1.105 in /home/ec2-user/anaconda3/envs/python3/lib/python3.10/site-packages (from torch) (12.1.105)\n",
            "Requirement already satisfied: triton==2.3.0 in /home/ec2-user/anaconda3/envs/python3/lib/python3.10/site-packages (from torch) (2.3.0)\n",
            "Requirement already satisfied: nvidia-nvjitlink-cu12 in /home/ec2-user/anaconda3/envs/python3/lib/python3.10/site-packages (from nvidia-cusolver-cu12==11.4.5.107->torch) (12.5.40)\n",
            "Requirement already satisfied: scipy>=1.6.0 in /home/ec2-user/anaconda3/envs/python3/lib/python3.10/site-packages (from scikit-learn) (1.12.0)\n",
            "Requirement already satisfied: joblib>=1.2.0 in /home/ec2-user/anaconda3/envs/python3/lib/python3.10/site-packages (from scikit-learn) (1.3.2)\n",
            "Requirement already satisfied: threadpoolctl>=2.0.0 in /home/ec2-user/anaconda3/envs/python3/lib/python3.10/site-packages (from scikit-learn) (3.4.0)\n",
            "Requirement already satisfied: pyarrow>=12.0.0 in /home/ec2-user/anaconda3/envs/python3/lib/python3.10/site-packages (from datasets) (15.0.2)\n",
            "Requirement already satisfied: pyarrow-hotfix in /home/ec2-user/anaconda3/envs/python3/lib/python3.10/site-packages (from datasets) (0.6)\n",
            "Requirement already satisfied: dill<0.3.9,>=0.3.0 in /home/ec2-user/anaconda3/envs/python3/lib/python3.10/site-packages (from datasets) (0.3.8)\n",
            "Requirement already satisfied: pandas in /home/ec2-user/anaconda3/envs/python3/lib/python3.10/site-packages (from datasets) (2.2.1)\n",
            "Requirement already satisfied: xxhash in /home/ec2-user/anaconda3/envs/python3/lib/python3.10/site-packages (from datasets) (3.4.1)\n",
            "Requirement already satisfied: multiprocess in /home/ec2-user/anaconda3/envs/python3/lib/python3.10/site-packages (from datasets) (0.70.16)\n",
            "Requirement already satisfied: aiohttp in /home/ec2-user/anaconda3/envs/python3/lib/python3.10/site-packages (from datasets) (3.9.3)\n",
            "Requirement already satisfied: aiosignal>=1.1.2 in /home/ec2-user/anaconda3/envs/python3/lib/python3.10/site-packages (from aiohttp->datasets) (1.3.1)\n",
            "Requirement already satisfied: attrs>=17.3.0 in /home/ec2-user/anaconda3/envs/python3/lib/python3.10/site-packages (from aiohttp->datasets) (23.2.0)\n",
            "Requirement already satisfied: frozenlist>=1.1.1 in /home/ec2-user/anaconda3/envs/python3/lib/python3.10/site-packages (from aiohttp->datasets) (1.4.1)\n",
            "Requirement already satisfied: multidict<7.0,>=4.5 in /home/ec2-user/anaconda3/envs/python3/lib/python3.10/site-packages (from aiohttp->datasets) (6.0.5)\n",
            "Requirement already satisfied: yarl<2.0,>=1.0 in /home/ec2-user/anaconda3/envs/python3/lib/python3.10/site-packages (from aiohttp->datasets) (1.9.4)\n",
            "Requirement already satisfied: async-timeout<5.0,>=4.0 in /home/ec2-user/anaconda3/envs/python3/lib/python3.10/site-packages (from aiohttp->datasets) (4.0.3)\n",
            "Requirement already satisfied: pyparsing!=3.0.5,>=2.0.2 in /home/ec2-user/anaconda3/envs/python3/lib/python3.10/site-packages (from packaging>=20.0->transformers) (3.1.2)\n",
            "Requirement already satisfied: charset-normalizer<4,>=2 in /home/ec2-user/anaconda3/envs/python3/lib/python3.10/site-packages (from requests->transformers) (3.3.2)\n",
            "Requirement already satisfied: idna<4,>=2.5 in /home/ec2-user/anaconda3/envs/python3/lib/python3.10/site-packages (from requests->transformers) (3.6)\n",
            "Requirement already satisfied: urllib3<3,>=1.21.1 in /home/ec2-user/anaconda3/envs/python3/lib/python3.10/site-packages (from requests->transformers) (2.2.1)\n",
            "Requirement already satisfied: certifi>=2017.4.17 in /home/ec2-user/anaconda3/envs/python3/lib/python3.10/site-packages (from requests->transformers) (2024.2.2)\n",
            "Requirement already satisfied: MarkupSafe>=2.0 in /home/ec2-user/anaconda3/envs/python3/lib/python3.10/site-packages (from jinja2->torch) (2.1.5)\n",
            "Requirement already satisfied: python-dateutil>=2.8.2 in /home/ec2-user/anaconda3/envs/python3/lib/python3.10/site-packages (from pandas->datasets) (2.9.0)\n",
            "Requirement already satisfied: pytz>=2020.1 in /home/ec2-user/anaconda3/envs/python3/lib/python3.10/site-packages (from pandas->datasets) (2024.1)\n",
            "Requirement already satisfied: tzdata>=2022.7 in /home/ec2-user/anaconda3/envs/python3/lib/python3.10/site-packages (from pandas->datasets) (2024.1)\n",
            "Requirement already satisfied: mpmath>=0.19 in /home/ec2-user/anaconda3/envs/python3/lib/python3.10/site-packages (from sympy->torch) (1.3.0)\n",
            "Requirement already satisfied: six>=1.5 in /home/ec2-user/anaconda3/envs/python3/lib/python3.10/site-packages (from python-dateutil>=2.8.2->pandas->datasets) (1.16.0)\n",
            "Requirement already satisfied: accelerate in /home/ec2-user/anaconda3/envs/python3/lib/python3.10/site-packages (0.30.1)\n",
            "Requirement already satisfied: numpy>=1.17 in /home/ec2-user/anaconda3/envs/python3/lib/python3.10/site-packages (from accelerate) (1.22.4)\n",
            "Requirement already satisfied: packaging>=20.0 in /home/ec2-user/anaconda3/envs/python3/lib/python3.10/site-packages (from accelerate) (21.3)\n",
            "Requirement already satisfied: psutil in /home/ec2-user/anaconda3/envs/python3/lib/python3.10/site-packages (from accelerate) (5.9.8)\n",
            "Requirement already satisfied: pyyaml in /home/ec2-user/anaconda3/envs/python3/lib/python3.10/site-packages (from accelerate) (6.0.1)\n",
            "Requirement already satisfied: torch>=1.10.0 in /home/ec2-user/anaconda3/envs/python3/lib/python3.10/site-packages (from accelerate) (2.3.0)\n",
            "Requirement already satisfied: huggingface-hub in /home/ec2-user/anaconda3/envs/python3/lib/python3.10/site-packages (from accelerate) (0.23.2)\n",
            "Requirement already satisfied: safetensors>=0.3.1 in /home/ec2-user/anaconda3/envs/python3/lib/python3.10/site-packages (from accelerate) (0.4.3)\n",
            "Requirement already satisfied: pyparsing!=3.0.5,>=2.0.2 in /home/ec2-user/anaconda3/envs/python3/lib/python3.10/site-packages (from packaging>=20.0->accelerate) (3.1.2)\n",
            "Requirement already satisfied: filelock in /home/ec2-user/anaconda3/envs/python3/lib/python3.10/site-packages (from torch>=1.10.0->accelerate) (3.13.3)\n",
            "Requirement already satisfied: typing-extensions>=4.8.0 in /home/ec2-user/anaconda3/envs/python3/lib/python3.10/site-packages (from torch>=1.10.0->accelerate) (4.10.0)\n",
            "Requirement already satisfied: sympy in /home/ec2-user/anaconda3/envs/python3/lib/python3.10/site-packages (from torch>=1.10.0->accelerate) (1.12)\n",
            "Requirement already satisfied: networkx in /home/ec2-user/anaconda3/envs/python3/lib/python3.10/site-packages (from torch>=1.10.0->accelerate) (3.2.1)\n",
            "Requirement already satisfied: jinja2 in /home/ec2-user/anaconda3/envs/python3/lib/python3.10/site-packages (from torch>=1.10.0->accelerate) (3.1.3)\n",
            "Requirement already satisfied: fsspec in /home/ec2-user/anaconda3/envs/python3/lib/python3.10/site-packages (from torch>=1.10.0->accelerate) (2024.3.1)\n",
            "Requirement already satisfied: nvidia-cuda-nvrtc-cu12==12.1.105 in /home/ec2-user/anaconda3/envs/python3/lib/python3.10/site-packages (from torch>=1.10.0->accelerate) (12.1.105)\n",
            "Requirement already satisfied: nvidia-cuda-runtime-cu12==12.1.105 in /home/ec2-user/anaconda3/envs/python3/lib/python3.10/site-packages (from torch>=1.10.0->accelerate) (12.1.105)\n",
            "Requirement already satisfied: nvidia-cuda-cupti-cu12==12.1.105 in /home/ec2-user/anaconda3/envs/python3/lib/python3.10/site-packages (from torch>=1.10.0->accelerate) (12.1.105)\n",
            "Requirement already satisfied: nvidia-cudnn-cu12==8.9.2.26 in /home/ec2-user/anaconda3/envs/python3/lib/python3.10/site-packages (from torch>=1.10.0->accelerate) (8.9.2.26)\n",
            "Requirement already satisfied: nvidia-cublas-cu12==12.1.3.1 in /home/ec2-user/anaconda3/envs/python3/lib/python3.10/site-packages (from torch>=1.10.0->accelerate) (12.1.3.1)\n",
            "Requirement already satisfied: nvidia-cufft-cu12==11.0.2.54 in /home/ec2-user/anaconda3/envs/python3/lib/python3.10/site-packages (from torch>=1.10.0->accelerate) (11.0.2.54)\n",
            "Requirement already satisfied: nvidia-curand-cu12==10.3.2.106 in /home/ec2-user/anaconda3/envs/python3/lib/python3.10/site-packages (from torch>=1.10.0->accelerate) (10.3.2.106)\n",
            "Requirement already satisfied: nvidia-cusolver-cu12==11.4.5.107 in /home/ec2-user/anaconda3/envs/python3/lib/python3.10/site-packages (from torch>=1.10.0->accelerate) (11.4.5.107)\n",
            "Requirement already satisfied: nvidia-cusparse-cu12==12.1.0.106 in /home/ec2-user/anaconda3/envs/python3/lib/python3.10/site-packages (from torch>=1.10.0->accelerate) (12.1.0.106)\n",
            "Requirement already satisfied: nvidia-nccl-cu12==2.20.5 in /home/ec2-user/anaconda3/envs/python3/lib/python3.10/site-packages (from torch>=1.10.0->accelerate) (2.20.5)\n",
            "Requirement already satisfied: nvidia-nvtx-cu12==12.1.105 in /home/ec2-user/anaconda3/envs/python3/lib/python3.10/site-packages (from torch>=1.10.0->accelerate) (12.1.105)\n",
            "Requirement already satisfied: triton==2.3.0 in /home/ec2-user/anaconda3/envs/python3/lib/python3.10/site-packages (from torch>=1.10.0->accelerate) (2.3.0)\n",
            "Requirement already satisfied: nvidia-nvjitlink-cu12 in /home/ec2-user/anaconda3/envs/python3/lib/python3.10/site-packages (from nvidia-cusolver-cu12==11.4.5.107->torch>=1.10.0->accelerate) (12.5.40)\n",
            "Requirement already satisfied: requests in /home/ec2-user/anaconda3/envs/python3/lib/python3.10/site-packages (from huggingface-hub->accelerate) (2.31.0)\n",
            "Requirement already satisfied: tqdm>=4.42.1 in /home/ec2-user/anaconda3/envs/python3/lib/python3.10/site-packages (from huggingface-hub->accelerate) (4.66.2)\n",
            "Requirement already satisfied: MarkupSafe>=2.0 in /home/ec2-user/anaconda3/envs/python3/lib/python3.10/site-packages (from jinja2->torch>=1.10.0->accelerate) (2.1.5)\n",
            "Requirement already satisfied: charset-normalizer<4,>=2 in /home/ec2-user/anaconda3/envs/python3/lib/python3.10/site-packages (from requests->huggingface-hub->accelerate) (3.3.2)\n",
            "Requirement already satisfied: idna<4,>=2.5 in /home/ec2-user/anaconda3/envs/python3/lib/python3.10/site-packages (from requests->huggingface-hub->accelerate) (3.6)\n",
            "Requirement already satisfied: urllib3<3,>=1.21.1 in /home/ec2-user/anaconda3/envs/python3/lib/python3.10/site-packages (from requests->huggingface-hub->accelerate) (2.2.1)\n",
            "Requirement already satisfied: certifi>=2017.4.17 in /home/ec2-user/anaconda3/envs/python3/lib/python3.10/site-packages (from requests->huggingface-hub->accelerate) (2024.2.2)\n",
            "Requirement already satisfied: mpmath>=0.19 in /home/ec2-user/anaconda3/envs/python3/lib/python3.10/site-packages (from sympy->torch>=1.10.0->accelerate) (1.3.0)\n"
          ]
        }
      ],
      "source": [
        "! pip install transformers torch scikit-learn datasets\n",
        "! pip install accelerate -U"
      ]
    },
    {
      "cell_type": "code",
      "execution_count": null,
      "metadata": {
        "id": "Ch2ev-MOElOv"
      },
      "outputs": [],
      "source": [
        "from matplotlib import pyplot as plt\n",
        "import seaborn as sns\n",
        "import os\n",
        "import shutil\n",
        "import pandas as pd\n",
        "import numpy as np\n",
        "import random\n",
        "import torch\n",
        "from transformers import TrainingArguments, Trainer, DistilBertTokenizer, DistilBertForSequenceClassification, EarlyStoppingCallback\n",
        "from sklearn.model_selection import train_test_split\n",
        "from sklearn.preprocessing import LabelEncoder\n",
        "from torch.utils.data import DataLoader, TensorDataset, RandomSampler, SequentialSampler\n",
        "from datasets import Dataset\n",
        "from sklearn.metrics import accuracy_score, confusion_matrix"
      ]
    },
    {
      "cell_type": "markdown",
      "metadata": {
        "id": "DJcaLnGT5cZk"
      },
      "source": [
        "### Load dataset"
      ]
    },
    {
      "cell_type": "code",
      "execution_count": null,
      "metadata": {
        "colab": {
          "base_uri": "https://localhost:8080/",
          "height": 206
        },
        "id": "bf-KR_MRC0Yp",
        "outputId": "46c33b0b-90d2-4a2e-8e16-e52c2ee7391b"
      },
      "outputs": [
        {
          "data": {
            "text/html": [
              "<div>\n",
              "<style scoped>\n",
              "    .dataframe tbody tr th:only-of-type {\n",
              "        vertical-align: middle;\n",
              "    }\n",
              "\n",
              "    .dataframe tbody tr th {\n",
              "        vertical-align: top;\n",
              "    }\n",
              "\n",
              "    .dataframe thead th {\n",
              "        text-align: right;\n",
              "    }\n",
              "</style>\n",
              "<table border=\"1\" class=\"dataframe\">\n",
              "  <thead>\n",
              "    <tr style=\"text-align: right;\">\n",
              "      <th></th>\n",
              "      <th>Text</th>\n",
              "      <th>Category</th>\n",
              "    </tr>\n",
              "  </thead>\n",
              "  <tbody>\n",
              "    <tr>\n",
              "      <th>0</th>\n",
              "      <td>Elon Musk, Amber Heard Something's Fishy On Wr...</td>\n",
              "      <td>Entertainment</td>\n",
              "    </tr>\n",
              "    <tr>\n",
              "      <th>1</th>\n",
              "      <td>Scientists are developing more than 100 corona...</td>\n",
              "      <td>science</td>\n",
              "    </tr>\n",
              "    <tr>\n",
              "      <th>2</th>\n",
              "      <td>Jared Fogle Shut Down By Judge In Bid for Earl...</td>\n",
              "      <td>Entertainment</td>\n",
              "    </tr>\n",
              "    <tr>\n",
              "      <th>3</th>\n",
              "      <td>The agency had come under fire from members of...</td>\n",
              "      <td>Health</td>\n",
              "    </tr>\n",
              "    <tr>\n",
              "      <th>4</th>\n",
              "      <td>Credit...Jim Wilson/The New York TimesJune 30,...</td>\n",
              "      <td>Politics</td>\n",
              "    </tr>\n",
              "  </tbody>\n",
              "</table>\n",
              "</div>"
            ],
            "text/plain": [
              "                                                Text       Category\n",
              "0  Elon Musk, Amber Heard Something's Fishy On Wr...  Entertainment\n",
              "1  Scientists are developing more than 100 corona...        science\n",
              "2  Jared Fogle Shut Down By Judge In Bid for Earl...  Entertainment\n",
              "3  The agency had come under fire from members of...         Health\n",
              "4  Credit...Jim Wilson/The New York TimesJune 30,...       Politics"
            ]
          },
          "execution_count": 3,
          "metadata": {},
          "output_type": "execute_result"
        }
      ],
      "source": [
        "df = pd.read_csv(\"news_article_categorization.csv\")\n",
        "df.head()"
      ]
    },
    {
      "cell_type": "code",
      "execution_count": null,
      "metadata": {
        "colab": {
          "base_uri": "https://localhost:8080/"
        },
        "id": "B0ypiu2R5MC5",
        "outputId": "d8dae66f-1a52-4e60-b624-fb57c776c414"
      },
      "outputs": [
        {
          "name": "stdout",
          "output_type": "stream",
          "text": [
            "<class 'pandas.core.frame.DataFrame'>\n",
            "RangeIndex: 3722 entries, 0 to 3721\n",
            "Data columns (total 2 columns):\n",
            " #   Column    Non-Null Count  Dtype \n",
            "---  ------    --------------  ----- \n",
            " 0   Text      3722 non-null   object\n",
            " 1   Category  3722 non-null   object\n",
            "dtypes: object(2)\n",
            "memory usage: 58.3+ KB\n"
          ]
        }
      ],
      "source": [
        "df.info()"
      ]
    },
    {
      "cell_type": "code",
      "execution_count": null,
      "metadata": {
        "colab": {
          "base_uri": "https://localhost:8080/",
          "height": 430
        },
        "id": "i6Jr70sbE2h3",
        "outputId": "ef9abe0a-cbd5-4546-8fa7-fedb974f7411"
      },
      "outputs": [
        {
          "data": {
            "image/png": "[encoded data removed]",
            "text/plain": [
              "<Figure size 640x480 with 1 Axes>"
            ]
          },
          "metadata": {},
          "output_type": "display_data"
        }
      ],
      "source": [
        "df.groupby('Category').size().plot(kind='barh', color=sns.palettes.mpl_palette('Dark2'))\n",
        "plt.gca().spines[['top', 'right',]].set_visible(False)"
      ]
    },
    {
      "cell_type": "code",
      "execution_count": null,
      "metadata": {
        "colab": {
          "base_uri": "https://localhost:8080/"
        },
        "id": "ezEeVg51QWMg",
        "outputId": "d89eab6b-2a0f-43a4-8455-04299d440b52"
      },
      "outputs": [
        {
          "name": "stdout",
          "output_type": "stream",
          "text": [
            "There are 92 science articles starting with 'science' and other 0 articles starting with their category name\n",
            "There are 482 science articles\n"
          ]
        }
      ],
      "source": [
        "count_science = 0\n",
        "count_others = 0\n",
        "for i, category in enumerate(df['Category']):\n",
        "  if category in df['Text'][i:i+1][i].split(' ',1)[0].lower():\n",
        "    if category == 'science':\n",
        "        count_science += 1\n",
        "    else:\n",
        "        count_others += 1\n",
        "print(f'There are {count_science} science articles starting with \\'science\\' and other {count_others} articles starting with their category name')\n",
        "count_science = df['Category'].value_counts().get('science',0)\n",
        "print(f'There are {count_science} science articles')"
      ]
    },
    {
      "cell_type": "markdown",
      "metadata": {
        "id": "gDOhsXRR5_O9"
      },
      "source": [
        "It's not a bid deal, since just 92 out of 3722 articles start with their category's name. They are all science articles, but it's $\\sim \\frac15$ of the total, hence we don't think it is necessary to discard the first word ('science').  "
      ]
    },
    {
      "cell_type": "markdown",
      "metadata": {
        "id": "_VTTJdBd5cZm"
      },
      "source": [
        "### Encode labels"
      ]
    },
    {
      "cell_type": "code",
      "execution_count": null,
      "metadata": {
        "colab": {
          "base_uri": "https://localhost:8080/"
        },
        "id": "ZV8sW6zbg0n5",
        "outputId": "87e77003-e382-4d9f-87b4-55436bb641e7"
      },
      "outputs": [
        {
          "name": "stdout",
          "output_type": "stream",
          "text": [
            "{0: 'Business', 1: 'Entertainment', 2: 'Health', 3: 'Politics', 4: 'Sports', 5: 'Tech', 6: 'World', 7: 'science'} {7: 'science', 6: 'World', 5: 'Tech', 4: 'Sports', 3: 'Politics', 2: 'Health', 1: 'Entertainment', 0: 'Business'}\n"
          ]
        }
      ],
      "source": [
        "label_encoder = LabelEncoder()\n",
        "df['label'] = label_encoder.fit_transform(df['Category'])\n",
        "id2label= dict(sorted(zip(map(int, label_encoder.transform(df['Category'])), df['Category'])))\n",
        "label2id = dict(sorted(id2label.items(), reverse=True))\n",
        "print(id2label, label2id)"
      ]
    },
    {
      "cell_type": "code",
      "execution_count": null,
      "metadata": {
        "colab": {
          "base_uri": "https://localhost:8080/",
          "height": 206
        },
        "id": "4A05ZKFRwXQk",
        "outputId": "f7c2ab70-a1f5-48cd-bfaf-08d6017d615f"
      },
      "outputs": [
        {
          "data": {
            "text/html": [
              "<div>\n",
              "<style scoped>\n",
              "    .dataframe tbody tr th:only-of-type {\n",
              "        vertical-align: middle;\n",
              "    }\n",
              "\n",
              "    .dataframe tbody tr th {\n",
              "        vertical-align: top;\n",
              "    }\n",
              "\n",
              "    .dataframe thead th {\n",
              "        text-align: right;\n",
              "    }\n",
              "</style>\n",
              "<table border=\"1\" class=\"dataframe\">\n",
              "  <thead>\n",
              "    <tr style=\"text-align: right;\">\n",
              "      <th></th>\n",
              "      <th>Text</th>\n",
              "      <th>label</th>\n",
              "    </tr>\n",
              "  </thead>\n",
              "  <tbody>\n",
              "    <tr>\n",
              "      <th>0</th>\n",
              "      <td>Elon Musk, Amber Heard Something's Fishy On Wr...</td>\n",
              "      <td>1</td>\n",
              "    </tr>\n",
              "    <tr>\n",
              "      <th>1</th>\n",
              "      <td>Scientists are developing more than 100 corona...</td>\n",
              "      <td>7</td>\n",
              "    </tr>\n",
              "    <tr>\n",
              "      <th>2</th>\n",
              "      <td>Jared Fogle Shut Down By Judge In Bid for Earl...</td>\n",
              "      <td>1</td>\n",
              "    </tr>\n",
              "    <tr>\n",
              "      <th>3</th>\n",
              "      <td>The agency had come under fire from members of...</td>\n",
              "      <td>2</td>\n",
              "    </tr>\n",
              "    <tr>\n",
              "      <th>4</th>\n",
              "      <td>Credit...Jim Wilson/The New York TimesJune 30,...</td>\n",
              "      <td>3</td>\n",
              "    </tr>\n",
              "  </tbody>\n",
              "</table>\n",
              "</div>"
            ],
            "text/plain": [
              "                                                Text  label\n",
              "0  Elon Musk, Amber Heard Something's Fishy On Wr...      1\n",
              "1  Scientists are developing more than 100 corona...      7\n",
              "2  Jared Fogle Shut Down By Judge In Bid for Earl...      1\n",
              "3  The agency had come under fire from members of...      2\n",
              "4  Credit...Jim Wilson/The New York TimesJune 30,...      3"
            ]
          },
          "execution_count": 8,
          "metadata": {},
          "output_type": "execute_result"
        }
      ],
      "source": [
        "df.pop('Category')\n",
        "df.head()"
      ]
    },
    {
      "cell_type": "markdown",
      "metadata": {
        "id": "yDtOQfPD5cZn"
      },
      "source": [
        "### Convert to Hugginface dataset"
      ]
    },
    {
      "cell_type": "code",
      "execution_count": null,
      "metadata": {
        "colab": {
          "base_uri": "https://localhost:8080/"
        },
        "id": "g-upeVy3j6le",
        "outputId": "df36956f-0bcd-48f2-ba2d-ce14aeb3eb14"
      },
      "outputs": [
        {
          "data": {
            "text/plain": [
              "Dataset({\n",
              "    features: ['Text', 'label'],\n",
              "    num_rows: 3722\n",
              "})"
            ]
          },
          "execution_count": 9,
          "metadata": {},
          "output_type": "execute_result"
        }
      ],
      "source": [
        "dt = Dataset.from_dict(df)\n",
        "dt"
      ]
    },
    {
      "cell_type": "markdown",
      "metadata": {
        "id": "NGC5UWNI5cZn"
      },
      "source": [
        "### Train-validation-test split"
      ]
    },
    {
      "cell_type": "code",
      "execution_count": null,
      "metadata": {
        "colab": {
          "base_uri": "https://localhost:8080/"
        },
        "id": "Xwx1lIMmkndH",
        "outputId": "2ad0a6d0-3217-409b-e0c2-23e1b4038df8"
      },
      "outputs": [
        {
          "data": {
            "text/plain": [
              "DatasetDict({\n",
              "    train: Dataset({\n",
              "        features: ['Text', 'label'],\n",
              "        num_rows: 2381\n",
              "    })\n",
              "    test: Dataset({\n",
              "        features: ['Text', 'label'],\n",
              "        num_rows: 745\n",
              "    })\n",
              "    val: Dataset({\n",
              "        features: ['Text', 'label'],\n",
              "        num_rows: 596\n",
              "    })\n",
              "})"
            ]
          },
          "execution_count": 10,
          "metadata": {},
          "output_type": "execute_result"
        }
      ],
      "source": [
        "data = dt.train_test_split(test_size=0.2, shuffle=True)\n",
        "train_and_val = data['train'].train_test_split(test_size=0.2)\n",
        "data['val'] = train_and_val['test']\n",
        "data['train'] = train_and_val['train']\n",
        "data"
      ]
    },
    {
      "cell_type": "markdown",
      "metadata": {
        "id": "woMQswQv5cZo"
      },
      "source": [
        "### Tokenization"
      ]
    },
    {
      "cell_type": "code",
      "execution_count": null,
      "metadata": {
        "colab": {
          "base_uri": "https://localhost:8080/",
          "height": 237,
          "referenced_widgets": [
            "ebe3eb6e0ac44613966eff2ba2bb47ea",
            "a3ee3f4308c24fffb5cd8c2953d21692",
            "109054b6f7fe4559b0a0709819ea4e75",
            "81fcefc38cfd4434b34b7fe3a1bf5f8c",
            "3f58e1e7db4643a59fe69bcbc81bb712",
            "797a53a0999b48ae842b061a422ebd56",
            "430a1d36812b4825b709af3a2212eaf2",
            "fe3affa07be443979e008195d324c770",
            "32d948d5034d4b018664054b8dcaf9e3",
            "c6dab8c45b674c0eb96fc3c9fd543cb7",
            "ff54e8200172415d8b0232832c63c221",
            "112034df1c4247bc927bf5558d5cc6ec",
            "61303f2a3e5744a29afb1808ca896fc9",
            "7ce181f46e364e6597e72b7a1c2a1ac5",
            "2602f3e7918b4ce1abd792b1f34d5284",
            "183fb4c9676246328e7d74a1aca77ff5",
            "f0c63127de764afcb145b39643800cab",
            "6d3730388482442db0e2c55ca31cf1bc",
            "894d572f113148c8882dedfd8f406921",
            "b64a5d8b76434829ba6e255bd465945f",
            "5fc425515d8d4ee1b2634b8d687bbc27",
            "a3a34fd8caeb4210af1545e7256246d1",
            "c33374c3e8324f40abb874338dfe295c",
            "17eae29d1237477999e9a19e02c96d4b",
            "f1b2f73ff8a6430d9c0618aa9c21f854",
            "932f2b72936244e780c6423a0212e928",
            "462ac52d83694e82bb6fa0084bdc4ba7",
            "b6c63d31bb924ee883dfed9bfc6e0964",
            "5247c530e4b24ab09ec5e45fb0ab0fd6",
            "0af49ff274ec49faabbcdef86ad57f17",
            "1a2e798f674b47af805cb6658f6ab41f",
            "5bccc9af787846be95a43b2d272644ef",
            "ccd54f5ebf8d4c34949cef52c5b9f2b4",
            "ca9f26b6f290410b9d61fa5a0623f16f",
            "befbef3ad39d4241b1ab874a05e86e16",
            "80b7ca0ab5684598bca3350eae028070"
          ]
        },
        "id": "eiGNGhXIoMuL",
        "outputId": "26577f02-d123-4f63-c90a-986bde675e37"
      },
      "outputs": [
        {
          "data": {
            "application/vnd.jupyter.widget-view+json": {
              "model_id": "ca9f26b6f290410b9d61fa5a0623f16f",
              "version_major": 2,
              "version_minor": 0
            },
            "text/plain": [
              "Map:   0%|          | 0/2381 [00:00<?, ? examples/s]"
            ]
          },
          "metadata": {},
          "output_type": "display_data"
        },
        {
          "data": {
            "application/vnd.jupyter.widget-view+json": {
              "model_id": "befbef3ad39d4241b1ab874a05e86e16",
              "version_major": 2,
              "version_minor": 0
            },
            "text/plain": [
              "Map:   0%|          | 0/745 [00:00<?, ? examples/s]"
            ]
          },
          "metadata": {},
          "output_type": "display_data"
        },
        {
          "data": {
            "application/vnd.jupyter.widget-view+json": {
              "model_id": "80b7ca0ab5684598bca3350eae028070",
              "version_major": 2,
              "version_minor": 0
            },
            "text/plain": [
              "Map:   0%|          | 0/596 [00:00<?, ? examples/s]"
            ]
          },
          "metadata": {},
          "output_type": "display_data"
        }
      ],
      "source": [
        "model_name='distilbert-base-uncased'\n",
        "tokenizer = DistilBertTokenizer.from_pretrained(model_name)\n",
        "def tokenize_function(data):\n",
        "  return tokenizer(data['Text'], padding=True, truncation=True)\n",
        "\n",
        "data_encoded = data.map(tokenize_function, batched=True, batch_size=None)"
      ]
    },
    {
      "cell_type": "markdown",
      "metadata": {
        "id": "sKVaR3O15cZo"
      },
      "source": [
        "### Load model"
      ]
    },
    {
      "cell_type": "code",
      "execution_count": null,
      "metadata": {
        "colab": {
          "base_uri": "https://localhost:8080/"
        },
        "id": "TKBs2q5erGwT",
        "outputId": "f8b6e74c-be91-41bd-e963-88ef7b0126d0"
      },
      "outputs": [
        {
          "name": "stdout",
          "output_type": "stream",
          "text": [
            "{0: 'Business', 1: 'Entertainment', 2: 'Health', 3: 'Politics', 4: 'Sports', 5: 'Tech', 6: 'World', 7: 'science'} {7: 'science', 6: 'World', 5: 'Tech', 4: 'Sports', 3: 'Politics', 2: 'Health', 1: 'Entertainment', 0: 'Business'}\n"
          ]
        },
        {
          "name": "stderr",
          "output_type": "stream",
          "text": [
            "Some weights of DistilBertForSequenceClassification were not initialized from the model checkpoint at distilbert-base-uncased and are newly initialized: ['classifier.bias', 'classifier.weight', 'pre_classifier.bias', 'pre_classifier.weight']\n",
            "You should probably TRAIN this model on a down-stream task to be able to use it for predictions and inference.\n"
          ]
        }
      ],
      "source": [
        "print(id2label, label2id)\n",
        "model = DistilBertForSequenceClassification.from_pretrained(model_name, num_labels=8, id2label=id2label, label2id=label2id)"
      ]
    },
    {
      "cell_type": "code",
      "execution_count": null,
      "metadata": {
        "colab": {
          "base_uri": "https://localhost:8080/"
        },
        "id": "8tLSyUkv7SoW",
        "outputId": "da8cebe3-7ab0-40cc-b94e-f60e7b1fdcd6"
      },
      "outputs": [
        {
          "data": {
            "text/plain": [
              "DistilBertForSequenceClassification(\n",
              "  (distilbert): DistilBertModel(\n",
              "    (embeddings): Embeddings(\n",
              "      (word_embeddings): Embedding(30522, 768, padding_idx=0)\n",
              "      (position_embeddings): Embedding(512, 768)\n",
              "      (LayerNorm): LayerNorm((768,), eps=1e-12, elementwise_affine=True)\n",
              "      (dropout): Dropout(p=0.1, inplace=False)\n",
              "    )\n",
              "    (transformer): Transformer(\n",
              "      (layer): ModuleList(\n",
              "        (0-5): 6 x TransformerBlock(\n",
              "          (attention): MultiHeadSelfAttention(\n",
              "            (dropout): Dropout(p=0.1, inplace=False)\n",
              "            (q_lin): Linear(in_features=768, out_features=768, bias=True)\n",
              "            (k_lin): Linear(in_features=768, out_features=768, bias=True)\n",
              "            (v_lin): Linear(in_features=768, out_features=768, bias=True)\n",
              "            (out_lin): Linear(in_features=768, out_features=768, bias=True)\n",
              "          )\n",
              "          (sa_layer_norm): LayerNorm((768,), eps=1e-12, elementwise_affine=True)\n",
              "          (ffn): FFN(\n",
              "            (dropout): Dropout(p=0.1, inplace=False)\n",
              "            (lin1): Linear(in_features=768, out_features=3072, bias=True)\n",
              "            (lin2): Linear(in_features=3072, out_features=768, bias=True)\n",
              "            (activation): GELUActivation()\n",
              "          )\n",
              "          (output_layer_norm): LayerNorm((768,), eps=1e-12, elementwise_affine=True)\n",
              "        )\n",
              "      )\n",
              "    )\n",
              "  )\n",
              "  (pre_classifier): Linear(in_features=768, out_features=768, bias=True)\n",
              "  (classifier): Linear(in_features=768, out_features=8, bias=True)\n",
              "  (dropout): Dropout(p=0.2, inplace=False)\n",
              ")"
            ]
          },
          "execution_count": 13,
          "metadata": {},
          "output_type": "execute_result"
        }
      ],
      "source": [
        "model"
      ]
    },
    {
      "cell_type": "code",
      "execution_count": null,
      "metadata": {
        "id": "wpadyBSx5cZo",
        "outputId": "374ea05d-0280-49a4-b2de-9dc518e7f77f"
      },
      "outputs": [
        {
          "name": "stdout",
          "output_type": "stream",
          "text": [
            "pre_classifier.weight\n",
            "pre_classifier.bias\n",
            "classifier.weight\n",
            "classifier.bias\n"
          ]
        }
      ],
      "source": [
        "for name, param in model.named_parameters():\n",
        "    if 'classifier' not in name:\n",
        "        param.requires_grad = True\n",
        "    else:\n",
        "        print(name)"
      ]
    },
    {
      "cell_type": "code",
      "execution_count": null,
      "metadata": {
        "id": "DUlRkizt7hhs"
      },
      "outputs": [],
      "source": [
        "def get_accuracy(preds):\n",
        "  preds_preds = preds.predictions[0] if isinstance(preds.predictions, tuple) else preds.predictions\n",
        "  predictions = preds_preds.argmax(axis=-1)\n",
        "  labels = preds.label_ids\n",
        "  accuracy = accuracy_score(preds.label_ids, preds_preds.argmax(axis=-1))\n",
        "  return {'accuracy': accuracy}"
      ]
    },
    {
      "cell_type": "code",
      "execution_count": null,
      "metadata": {
        "id": "cUcXB1se8CUU"
      },
      "outputs": [],
      "source": [
        "output_dir = './results-news'\n",
        "os.makedirs(output_dir, exist_ok=True)\n",
        "for filename in os.listdir(output_dir):\n",
        "    file_path = os.path.join(output_dir, filename)\n",
        "    try:\n",
        "        if os.path.isfile(file_path) or os.path.islink(file_path):\n",
        "            os.unlink(file_path)\n",
        "        elif os.path.isdir(file_path):\n",
        "            shutil.rmtree(file_path)\n",
        "    except Exception as e:\n",
        "        print('Failed to delete %s. Reason: %s' % (file_path, e))\n",
        "\n",
        "batch_size=16\n",
        "training_args = TrainingArguments(\n",
        "    output_dir = output_dir,\n",
        "    learning_rate = 1e-4,\n",
        "    num_train_epochs = 4,\n",
        "    per_device_train_batch_size=batch_size,\n",
        "    per_device_eval_batch_size=batch_size,\n",
        "    weight_decay=0.01,\n",
        "    eval_strategy='epoch',\n",
        "    disable_tqdm=False,\n",
        "    logging_steps=len(data_encoded['train'])//batch_size,\n",
        ")"
      ]
    },
    {
      "cell_type": "code",
      "execution_count": null,
      "metadata": {
        "colab": {
          "base_uri": "https://localhost:8080/",
          "height": 75
        },
        "id": "3XYsY6ff-EI6",
        "outputId": "2ec7da90-b001-4e58-97bd-c769d9b97b48"
      },
      "outputs": [
        {
          "data": {
            "text/html": [
              "\n",
              "    <div>\n",
              "      \n",
              "      <progress value='596' max='596' style='width:300px; height:20px; vertical-align: middle;'></progress>\n",
              "      [596/596 07:27, Epoch 4/4]\n",
              "    </div>\n",
              "    <table border=\"1\" class=\"dataframe\">\n",
              "  <thead>\n",
              " <tr style=\"text-align: left;\">\n",
              "      <th>Epoch</th>\n",
              "      <th>Training Loss</th>\n",
              "      <th>Validation Loss</th>\n",
              "      <th>Accuracy</th>\n",
              "    </tr>\n",
              "  </thead>\n",
              "  <tbody>\n",
              "    <tr>\n",
              "      <td>1</td>\n",
              "      <td>0.607600</td>\n",
              "      <td>0.232159</td>\n",
              "      <td>0.941275</td>\n",
              "    </tr>\n",
              "    <tr>\n",
              "      <td>2</td>\n",
              "      <td>0.164100</td>\n",
              "      <td>0.198493</td>\n",
              "      <td>0.949664</td>\n",
              "    </tr>\n",
              "    <tr>\n",
              "      <td>3</td>\n",
              "      <td>0.092300</td>\n",
              "      <td>0.193206</td>\n",
              "      <td>0.954698</td>\n",
              "    </tr>\n",
              "    <tr>\n",
              "      <td>4</td>\n",
              "      <td>0.042700</td>\n",
              "      <td>0.178118</td>\n",
              "      <td>0.958054</td>\n",
              "    </tr>\n",
              "  </tbody>\n",
              "</table><p>"
            ],
            "text/plain": [
              "<IPython.core.display.HTML object>"
            ]
          },
          "metadata": {},
          "output_type": "display_data"
        },
        {
          "data": {
            "text/plain": [
              "TrainOutput(global_step=596, training_loss=0.22536263654896077, metrics={'train_runtime': 448.3756, 'train_samples_per_second': 21.241, 'train_steps_per_second': 1.329, 'total_flos': 1261754499956736.0, 'train_loss': 0.22536263654896077, 'epoch': 4.0})"
            ]
          },
          "execution_count": 17,
          "metadata": {},
          "output_type": "execute_result"
        }
      ],
      "source": [
        "trainer = Trainer(model=model,\n",
        "                  args=training_args,\n",
        "                  compute_metrics=get_accuracy,\n",
        "                  train_dataset=data_encoded['train'],\n",
        "                  eval_dataset=data_encoded['val'],\n",
        "                  tokenizer=tokenizer,\n",
        "                 )\n",
        "trainer.train()"
      ]
    },
    {
      "cell_type": "code",
      "execution_count": null,
      "metadata": {
        "id": "bFutEKKA5cZp",
        "outputId": "a4ff114f-18d9-4619-b7de-7a3145b8f6f0"
      },
      "outputs": [
        {
          "data": {
            "text/html": [],
            "text/plain": [
              "<IPython.core.display.HTML object>"
            ]
          },
          "metadata": {},
          "output_type": "display_data"
        },
        {
          "data": {
            "text/plain": [
              "{'eval_loss': 0.17811816930770874,\n",
              " 'eval_accuracy': 0.9580536912751678,\n",
              " 'eval_runtime': 8.7773,\n",
              " 'eval_samples_per_second': 67.902,\n",
              " 'eval_steps_per_second': 4.329,\n",
              " 'epoch': 4.0}"
            ]
          },
          "execution_count": 18,
          "metadata": {},
          "output_type": "execute_result"
        }
      ],
      "source": [
        "trainer.evaluate()"
      ]
    },
    {
      "cell_type": "code",
      "execution_count": null,
      "metadata": {
        "id": "A-IZ3fXX5cZp",
        "outputId": "7a5cba4b-921d-421d-a634-2003c026927f"
      },
      "outputs": [
        {
          "name": "stdout",
          "output_type": "stream",
          "text": [
            "PredictionOutput(predictions=array([[ 6.207222  , -1.4608359 , -0.82252   , ..., -1.3874391 ,\n",
            "        -1.1831079 , -0.62916386],\n",
            "       [-1.7947028 , -2.1481948 , -0.13052326, ..., -1.717454  ,\n",
            "        -1.0710604 ,  6.9058137 ],\n",
            "       [-1.5227726 ,  7.8060164 , -1.4623762 , ..., -1.5138278 ,\n",
            "        -1.5940322 , -1.2098466 ],\n",
            "       ...,\n",
            "       [-1.6105145 , -1.7068608 , -1.4413645 , ..., -0.9737652 ,\n",
            "        -0.61094576, -1.2337989 ],\n",
            "       [-2.002589  , -1.5321802 , -1.8055894 , ..., -0.58501524,\n",
            "        -1.4017994 , -0.9274596 ],\n",
            "       [-1.5116707 ,  7.8186617 , -1.4497803 , ..., -1.5147406 ,\n",
            "        -1.5673115 , -1.2112027 ]], dtype=float32), label_ids=array([0, 7, 1, ..., 3, 4, 1]), metrics={'test_loss': 0.0274382121860981, 'test_accuracy': 0.9928601427971441, 'test_runtime': 35.283, 'test_samples_per_second': 67.483, 'test_steps_per_second': 4.223})\n",
            "{'test_loss': 0.0274382121860981, 'test_accuracy': 0.9928601427971441, 'test_runtime': 35.283, 'test_samples_per_second': 67.483, 'test_steps_per_second': 4.223}\n"
          ]
        }
      ],
      "source": [
        "predictions_train = trainer.predict(data_encoded['train'])\n",
        "print(predictions_train)\n",
        "print(predictions_train.metrics)"
      ]
    },
    {
      "cell_type": "code",
      "execution_count": null,
      "metadata": {
        "id": "UVX6f_DK5cZp",
        "outputId": "5d3969bb-be9f-4955-d29a-f83214ab51e7"
      },
      "outputs": [
        {
          "name": "stdout",
          "output_type": "stream",
          "text": [
            "[ 6.207222   -1.4608359  -0.82252    -0.79574245 -1.4600769  -1.3874391\n",
            " -1.1831079  -0.62916386] 0\n"
          ]
        }
      ],
      "source": [
        "print(predictions_train[0][0], predictions_train[1][0])"
      ]
    },
    {
      "cell_type": "code",
      "execution_count": null,
      "metadata": {
        "id": "gSFiQfkF5cZp",
        "outputId": "ebed97a5-6102-45d5-d102-ea64318028f3"
      },
      "outputs": [
        {
          "name": "stdout",
          "output_type": "stream",
          "text": [
            "[0 7 1 ... 3 4 1]\n",
            "[0 7 1 ... 3 4 1]\n"
          ]
        }
      ],
      "source": [
        "pred_train_class = predictions_train.predictions.argmax(axis=1)\n",
        "print(pred_train_class)\n",
        "label_train=predictions_train.label_ids\n",
        "print(label_train)"
      ]
    },
    {
      "cell_type": "code",
      "execution_count": null,
      "metadata": {
        "id": "FPQb82DN5cZp",
        "outputId": "ff114fcf-9eee-4e03-e243-9269f438e2b1"
      },
      "outputs": [
        {
          "data": {
            "image/png": "[encoded data removed]",
            "text/plain": [
              "<Figure size 640x480 with 2 Axes>"
            ]
          },
          "metadata": {},
          "output_type": "display_data"
        }
      ],
      "source": [
        "cm1 = confusion_matrix(label_train, pred_train_class)\n",
        "labels = [id2label[i] for i in range(len(id2label))]\n",
        "sns.heatmap(cm1, annot=True, fmt='d', cmap='Blues', xticklabels=labels, yticklabels=labels)\n",
        "plt.xlabel('Predicted labels')\n",
        "plt.ylabel('True labels')\n",
        "plt.title('Confusion Matrix on Training Set')\n",
        "plt.show()"
      ]
    },
    {
      "cell_type": "code",
      "execution_count": null,
      "metadata": {
        "id": "5lTExilZ5cZp",
        "outputId": "cd0e6c25-f43d-4513-b8eb-160f8be2f77e"
      },
      "outputs": [
        {
          "data": {
            "text/html": [],
            "text/plain": [
              "<IPython.core.display.HTML object>"
            ]
          },
          "metadata": {},
          "output_type": "display_data"
        },
        {
          "name": "stdout",
          "output_type": "stream",
          "text": [
            "PredictionOutput(predictions=array([[-1.6346657 ,  7.7802863 , -1.4798856 , ..., -1.509297  ,\n",
            "        -1.618943  , -1.1909059 ],\n",
            "       [ 7.2262816 , -1.8413042 , -1.2617551 , ...,  0.2245884 ,\n",
            "        -1.4768791 , -0.8260253 ],\n",
            "       [-0.84844065, -1.5411117 , -1.9178643 , ...,  7.2070265 ,\n",
            "        -1.0715758 , -0.8656683 ],\n",
            "       ...,\n",
            "       [-1.6491663 , -1.7844393 , -1.4627217 , ..., -0.93007106,\n",
            "        -0.4073258 , -1.2767721 ],\n",
            "       [-1.5146159 ,  7.8020644 , -1.4846809 , ..., -1.571223  ,\n",
            "        -1.5482548 , -1.2158841 ],\n",
            "       [-1.7483487 , -2.1742368 ,  0.20388699, ..., -1.8273462 ,\n",
            "        -1.1462331 ,  6.9560184 ]], dtype=float32), label_ids=array([1, 0, 5, 7, 6, 7, 4, 4, 7, 6, 5, 0, 5, 6, 2, 6, 5, 2, 3, 1, 3, 7,\n",
            "       4, 7, 2, 5, 1, 6, 1, 3, 3, 2, 7, 4, 4, 0, 7, 4, 6, 0, 0, 1, 7, 6,\n",
            "       3, 4, 1, 5, 3, 0, 6, 1, 1, 4, 5, 3, 0, 3, 6, 7, 2, 6, 6, 2, 4, 2,\n",
            "       2, 5, 6, 4, 5, 7, 7, 3, 1, 0, 4, 5, 3, 2, 3, 6, 0, 1, 3, 4, 0, 6,\n",
            "       1, 3, 0, 2, 0, 4, 1, 5, 4, 5, 0, 7, 6, 7, 6, 0, 1, 0, 6, 3, 1, 5,\n",
            "       3, 4, 2, 0, 2, 7, 4, 2, 7, 5, 4, 3, 7, 6, 3, 6, 1, 4, 5, 2, 2, 5,\n",
            "       1, 0, 0, 1, 7, 3, 1, 6, 1, 2, 2, 6, 0, 6, 4, 0, 6, 1, 5, 2, 3, 3,\n",
            "       7, 0, 7, 4, 1, 0, 2, 5, 7, 4, 4, 1, 0, 3, 5, 1, 1, 5, 6, 6, 6, 7,\n",
            "       5, 4, 1, 2, 4, 2, 1, 0, 5, 7, 1, 4, 7, 0, 1, 5, 1, 6, 3, 6, 2, 0,\n",
            "       6, 6, 5, 2, 3, 4, 7, 5, 3, 0, 3, 7, 2, 4, 5, 7, 1, 6, 5, 4, 4, 1,\n",
            "       0, 4, 1, 0, 5, 6, 7, 4, 6, 1, 3, 7, 4, 2, 5, 6, 7, 1, 2, 7, 6, 1,\n",
            "       6, 0, 4, 2, 7, 5, 6, 6, 0, 6, 3, 0, 5, 4, 2, 0, 6, 1, 1, 6, 5, 7,\n",
            "       1, 4, 5, 0, 1, 5, 7, 3, 3, 4, 2, 4, 3, 3, 1, 5, 2, 0, 6, 4, 2, 0,\n",
            "       3, 0, 3, 4, 3, 1, 6, 6, 7, 6, 0, 0, 3, 0, 5, 6, 4, 7, 2, 3, 4, 6,\n",
            "       3, 0, 0, 4, 6, 2, 6, 6, 4, 6, 7, 2, 3, 3, 7, 4, 5, 1, 6, 3, 4, 4,\n",
            "       1, 4, 4, 3, 0, 1, 1, 5, 4, 4, 6, 0, 7, 3, 5, 3, 7, 7, 2, 2, 1, 2,\n",
            "       2, 3, 0, 7, 4, 5, 3, 7, 2, 4, 2, 7, 6, 7, 4, 6, 0, 3, 5, 5, 0, 5,\n",
            "       0, 7, 2, 4, 3, 6, 6, 5, 6, 6, 2, 6, 6, 0, 3, 4, 4, 3, 3, 0, 1, 2,\n",
            "       1, 6, 2, 3, 3, 3, 0, 0, 1, 5, 0, 5, 3, 3, 1, 4, 1, 1, 1, 0, 0, 0,\n",
            "       1, 1, 6, 1, 6, 4, 4, 6, 2, 7, 4, 5, 0, 5, 2, 7, 6, 7, 7, 3, 0, 7,\n",
            "       2, 3, 2, 0, 2, 4, 3, 2, 4, 3, 1, 7, 0, 1, 7, 2, 7, 1, 7, 2, 4, 1,\n",
            "       4, 5, 3, 6, 6, 1, 5, 6, 4, 3, 0, 6, 4, 1, 1, 6, 4, 7, 0, 3, 2, 1,\n",
            "       7, 0, 7, 6, 3, 7, 3, 2, 1, 7, 2, 0, 0, 5, 4, 6, 7, 5, 1, 6, 4, 4,\n",
            "       5, 1, 0, 7, 4, 1, 0, 1, 3, 7, 6, 5, 2, 2, 0, 5, 4, 7, 2, 6, 3, 3,\n",
            "       5, 3, 1, 5, 0, 2, 2, 4, 1, 6, 0, 2, 0, 3, 2, 5, 6, 1, 3, 2, 4, 7,\n",
            "       5, 2, 1, 7, 3, 4, 7, 0, 4, 6, 0, 4, 3, 4, 5, 3, 7, 7, 2, 7, 0, 6,\n",
            "       7, 3, 1, 3, 6, 1, 4, 0, 1, 3, 0, 7, 7, 5, 3, 6, 5, 3, 2, 4, 0, 4,\n",
            "       5, 3, 3, 6, 0, 2, 3, 4, 0, 1, 2, 0, 0, 2, 6, 7, 3, 5, 7, 6, 3, 0,\n",
            "       4, 6, 3, 6, 0, 7, 3, 4, 0, 5, 0, 6, 2, 3, 3, 6, 0, 2, 1, 1, 6, 3,\n",
            "       7, 1, 7, 2, 4, 1, 2, 2, 3, 7, 3, 7, 6, 1, 1, 7, 0, 4, 6, 5, 3, 2,\n",
            "       0, 5, 7, 0, 1, 1, 2, 2, 6, 7, 4, 6, 1, 6, 7, 3, 1, 4, 0, 0, 3, 7,\n",
            "       7, 7, 4, 4, 3, 2, 1, 7, 0, 3, 2, 0, 6, 1, 7, 5, 5, 1, 1, 2, 1, 2,\n",
            "       6, 4, 6, 6, 5, 2, 5, 7, 2, 4, 4, 3, 4, 2, 5, 3, 3, 6, 1, 6, 5, 6,\n",
            "       2, 2, 1, 2, 3, 1, 6, 0, 3, 3, 2, 7, 4, 6, 7, 1, 3, 1, 7]), metrics={'test_loss': 0.2119472771883011, 'test_accuracy': 0.9489932885906041, 'test_runtime': 10.8018, 'test_samples_per_second': 68.97, 'test_steps_per_second': 4.351})\n",
            "{'test_loss': 0.2119472771883011, 'test_accuracy': 0.9489932885906041, 'test_runtime': 10.8018, 'test_samples_per_second': 68.97, 'test_steps_per_second': 4.351}\n"
          ]
        }
      ],
      "source": [
        "predictions_test = trainer.predict(data_encoded['test'])\n",
        "print(predictions_test)\n",
        "print(predictions_test.metrics)"
      ]
    },
    {
      "cell_type": "code",
      "execution_count": null,
      "metadata": {
        "id": "tcAtcBMs5cZp",
        "outputId": "75413707-331c-4a85-fa4a-ef8aa8c383b6"
      },
      "outputs": [
        {
          "name": "stdout",
          "output_type": "stream",
          "text": [
            "[-1.6346657   7.7802863  -1.4798856  -0.7649606  -0.92637324 -1.509297\n",
            " -1.618943   -1.1909059 ] 1\n"
          ]
        }
      ],
      "source": [
        "print(predictions_test[0][0], predictions_test[1][0])\n"
      ]
    },
    {
      "cell_type": "code",
      "execution_count": null,
      "metadata": {
        "id": "eT-CwONF5cZq",
        "outputId": "21a5e6bd-1b21-4d71-d694-d303b387d187"
      },
      "outputs": [
        {
          "name": "stdout",
          "output_type": "stream",
          "text": [
            "[1 0 5 7 6 7 4 4 7 6 5 0 5 6 2 6 5 2 3 1 3 2 4 7 2 7 1 3 1 3 3 2 7 4 4 0 7\n",
            " 4 6 0 0 1 7 6 3 4 1 5 3 0 6 1 1 4 5 3 0 3 7 7 2 6 6 2 4 2 2 7 6 4 5 7 7 3\n",
            " 1 0 4 5 3 2 3 6 0 1 3 4 0 6 1 3 0 2 0 4 1 5 4 5 0 7 6 7 6 0 1 0 6 3 1 1 3\n",
            " 4 2 0 2 7 4 2 7 5 4 3 7 6 3 6 1 4 5 2 2 5 1 0 0 1 7 3 1 3 1 2 2 6 0 6 4 0\n",
            " 6 1 3 2 3 3 7 0 2 4 1 0 2 5 2 4 4 1 0 3 5 1 1 5 6 6 6 7 5 4 1 2 4 2 1 0 5\n",
            " 7 1 4 2 0 1 5 1 6 3 6 2 0 6 2 5 2 3 4 2 5 3 0 3 7 2 4 5 7 1 6 5 4 4 1 0 4\n",
            " 1 0 5 6 7 4 6 1 3 7 4 2 5 6 7 1 2 2 6 1 6 0 4 2 2 5 6 6 0 6 3 0 5 4 2 0 6\n",
            " 1 1 6 5 7 1 4 5 0 1 5 7 3 3 4 2 4 3 3 1 5 2 0 6 4 2 0 6 0 3 4 3 1 6 6 7 6\n",
            " 0 0 3 0 5 6 4 7 2 3 4 6 3 0 0 4 6 7 6 6 4 6 7 2 3 3 2 4 5 1 6 3 4 4 1 4 4\n",
            " 3 0 1 1 5 4 4 6 0 7 3 5 3 7 7 2 2 1 7 2 3 0 5 4 5 3 7 2 4 2 2 6 7 4 6 0 3\n",
            " 5 5 0 5 0 7 2 4 2 6 6 5 6 6 2 6 6 0 3 4 4 3 3 0 1 2 1 6 2 3 3 3 0 0 1 5 0\n",
            " 7 3 3 1 4 1 1 1 0 0 0 1 1 6 1 6 4 4 6 2 7 4 5 0 5 2 7 6 7 7 3 0 7 2 3 2 0\n",
            " 2 4 3 2 4 3 1 7 0 1 7 2 7 1 7 2 4 1 4 5 3 6 6 1 5 6 4 3 0 6 4 1 1 6 4 7 0\n",
            " 3 2 1 7 0 7 6 3 2 3 2 1 5 2 0 0 5 4 6 7 5 1 6 4 4 5 1 0 7 4 1 0 1 3 7 6 5\n",
            " 7 2 0 5 4 7 2 6 3 3 5 3 1 5 0 2 2 4 1 6 0 2 0 3 2 5 6 1 3 2 4 7 5 2 1 7 3\n",
            " 4 7 0 4 6 0 4 3 4 5 3 7 7 2 7 0 6 7 3 1 3 6 1 4 0 1 3 0 7 7 5 3 6 5 3 2 4\n",
            " 0 4 5 3 3 6 0 2 3 4 0 1 2 0 0 2 6 7 3 5 7 6 3 0 4 4 3 6 0 7 3 4 0 0 5 6 2\n",
            " 3 3 6 0 2 1 1 6 3 7 1 7 2 0 1 2 2 3 7 3 7 6 1 1 2 0 4 6 5 3 7 0 5 7 0 1 1\n",
            " 2 2 6 7 4 6 1 6 7 3 1 4 7 0 3 2 7 7 4 4 5 2 1 7 0 3 2 0 6 1 7 5 5 1 1 2 1\n",
            " 2 6 4 6 6 5 2 5 7 2 4 4 3 4 2 7 3 3 7 1 6 6 6 2 2 1 2 3 1 6 0 3 3 2 7 4 6\n",
            " 7 1 3 1 7]\n",
            "[1 0 5 7 6 7 4 4 7 6 5 0 5 6 2 6 5 2 3 1 3 7 4 7 2 5 1 6 1 3 3 2 7 4 4 0 7\n",
            " 4 6 0 0 1 7 6 3 4 1 5 3 0 6 1 1 4 5 3 0 3 6 7 2 6 6 2 4 2 2 5 6 4 5 7 7 3\n",
            " 1 0 4 5 3 2 3 6 0 1 3 4 0 6 1 3 0 2 0 4 1 5 4 5 0 7 6 7 6 0 1 0 6 3 1 5 3\n",
            " 4 2 0 2 7 4 2 7 5 4 3 7 6 3 6 1 4 5 2 2 5 1 0 0 1 7 3 1 6 1 2 2 6 0 6 4 0\n",
            " 6 1 5 2 3 3 7 0 7 4 1 0 2 5 7 4 4 1 0 3 5 1 1 5 6 6 6 7 5 4 1 2 4 2 1 0 5\n",
            " 7 1 4 7 0 1 5 1 6 3 6 2 0 6 6 5 2 3 4 7 5 3 0 3 7 2 4 5 7 1 6 5 4 4 1 0 4\n",
            " 1 0 5 6 7 4 6 1 3 7 4 2 5 6 7 1 2 7 6 1 6 0 4 2 7 5 6 6 0 6 3 0 5 4 2 0 6\n",
            " 1 1 6 5 7 1 4 5 0 1 5 7 3 3 4 2 4 3 3 1 5 2 0 6 4 2 0 3 0 3 4 3 1 6 6 7 6\n",
            " 0 0 3 0 5 6 4 7 2 3 4 6 3 0 0 4 6 2 6 6 4 6 7 2 3 3 7 4 5 1 6 3 4 4 1 4 4\n",
            " 3 0 1 1 5 4 4 6 0 7 3 5 3 7 7 2 2 1 2 2 3 0 7 4 5 3 7 2 4 2 7 6 7 4 6 0 3\n",
            " 5 5 0 5 0 7 2 4 3 6 6 5 6 6 2 6 6 0 3 4 4 3 3 0 1 2 1 6 2 3 3 3 0 0 1 5 0\n",
            " 5 3 3 1 4 1 1 1 0 0 0 1 1 6 1 6 4 4 6 2 7 4 5 0 5 2 7 6 7 7 3 0 7 2 3 2 0\n",
            " 2 4 3 2 4 3 1 7 0 1 7 2 7 1 7 2 4 1 4 5 3 6 6 1 5 6 4 3 0 6 4 1 1 6 4 7 0\n",
            " 3 2 1 7 0 7 6 3 7 3 2 1 7 2 0 0 5 4 6 7 5 1 6 4 4 5 1 0 7 4 1 0 1 3 7 6 5\n",
            " 2 2 0 5 4 7 2 6 3 3 5 3 1 5 0 2 2 4 1 6 0 2 0 3 2 5 6 1 3 2 4 7 5 2 1 7 3\n",
            " 4 7 0 4 6 0 4 3 4 5 3 7 7 2 7 0 6 7 3 1 3 6 1 4 0 1 3 0 7 7 5 3 6 5 3 2 4\n",
            " 0 4 5 3 3 6 0 2 3 4 0 1 2 0 0 2 6 7 3 5 7 6 3 0 4 6 3 6 0 7 3 4 0 5 0 6 2\n",
            " 3 3 6 0 2 1 1 6 3 7 1 7 2 4 1 2 2 3 7 3 7 6 1 1 7 0 4 6 5 3 2 0 5 7 0 1 1\n",
            " 2 2 6 7 4 6 1 6 7 3 1 4 0 0 3 7 7 7 4 4 3 2 1 7 0 3 2 0 6 1 7 5 5 1 1 2 1\n",
            " 2 6 4 6 6 5 2 5 7 2 4 4 3 4 2 5 3 3 6 1 6 5 6 2 2 1 2 3 1 6 0 3 3 2 7 4 6\n",
            " 7 1 3 1 7]\n"
          ]
        }
      ],
      "source": [
        "pred_test_class = predictions_test.predictions.argmax(axis=1)\n",
        "print(pred_test_class)\n",
        "label_test = predictions_test.label_ids\n",
        "print(label_test)"
      ]
    },
    {
      "cell_type": "code",
      "execution_count": null,
      "metadata": {
        "id": "nb-0H02Y5cZq",
        "outputId": "c6657c34-3d65-4f0f-c66d-91a420cda469"
      },
      "outputs": [
        {
          "data": {
            "image/png": "[encoded data removed]",
            "text/plain": [
              "<Figure size 640x480 with 2 Axes>"
            ]
          },
          "metadata": {},
          "output_type": "display_data"
        }
      ],
      "source": [
        "cm2 = confusion_matrix(label_test, pred_test_class)\n",
        "labels = [id2label[i] for i in range(len(id2label))]\n",
        "sns.heatmap(cm2, annot=True, fmt='d', cmap='Blues', xticklabels=labels, yticklabels=labels)\n",
        "plt.xlabel('Predicted labels')\n",
        "plt.ylabel('True labels')\n",
        "plt.title('Confusion Matrix on Test Set')\n",
        "plt.show()"
      ]
    },
    {
      "cell_type": "markdown",
      "metadata": {
        "id": "oIRoVsrP5cZq"
      },
      "source": [
        "We can see how both in train and test set the category where the model struggles the most is science, since it tends to get confused with Health articles. For the rest of the topics the model's almost perfect."
      ]
    }
  ],
  "metadata": {
    "accelerator": "GPU",
    "colab": {
      "gpuType": "T4",
      "provenance": [],
      "include_colab_link": true
    },
    "kernelspec": {
      "display_name": "conda_python3",
      "language": "python",
      "name": "conda_python3"
    },
    "language_info": {
      "codemirror_mode": {
        "name": "ipython",
        "version": 3
      },
      "file_extension": ".py",
      "mimetype": "text/x-python",
      "name": "python",
      "nbconvert_exporter": "python",
      "pygments_lexer": "ipython3",
      "version": "3.10.14"
    },
    "widgets": {
      "application/vnd.jupyter.widget-state+json": {
        "0af49ff274ec49faabbcdef86ad57f17": {
          "model_module": "@jupyter-widgets/base",
          "model_module_version": "1.2.0",
          "model_name": "LayoutModel",
          "state": {
            "_model_module": "@jupyter-widgets/base",
            "_model_module_version": "1.2.0",
            "_model_name": "LayoutModel",
            "_view_count": null,
            "_view_module": "@jupyter-widgets/base",
            "_view_module_version": "1.2.0",
            "_view_name": "LayoutView",
            "align_content": null,
            "align_items": null,
            "align_self": null,
            "border": null,
            "bottom": null,
            "display": null,
            "flex": null,
            "flex_flow": null,
            "grid_area": null,
            "grid_auto_columns": null,
            "grid_auto_flow": null,
            "grid_auto_rows": null,
            "grid_column": null,
            "grid_gap": null,
            "grid_row": null,
            "grid_template_areas": null,
            "grid_template_columns": null,
            "grid_template_rows": null,
            "height": null,
            "justify_content": null,
            "justify_items": null,
            "left": null,
            "margin": null,
            "max_height": null,
            "max_width": null,
            "min_height": null,
            "min_width": null,
            "object_fit": null,
            "object_position": null,
            "order": null,
            "overflow": null,
            "overflow_x": null,
            "overflow_y": null,
            "padding": null,
            "right": null,
            "top": null,
            "visibility": null,
            "width": null
          }
        },
        "109054b6f7fe4559b0a0709819ea4e75": {
          "model_module": "@jupyter-widgets/controls",
          "model_module_version": "1.5.0",
          "model_name": "FloatProgressModel",
          "state": {
            "_dom_classes": [],
            "_model_module": "@jupyter-widgets/controls",
            "_model_module_version": "1.5.0",
            "_model_name": "FloatProgressModel",
            "_view_count": null,
            "_view_module": "@jupyter-widgets/controls",
            "_view_module_version": "1.5.0",
            "_view_name": "ProgressView",
            "bar_style": "success",
            "description": "",
            "description_tooltip": null,
            "layout": "IPY_MODEL_fe3affa07be443979e008195d324c770",
            "max": 2381,
            "min": 0,
            "orientation": "horizontal",
            "style": "IPY_MODEL_32d948d5034d4b018664054b8dcaf9e3",
            "value": 2381
          }
        },
        "112034df1c4247bc927bf5558d5cc6ec": {
          "model_module": "@jupyter-widgets/controls",
          "model_module_version": "1.5.0",
          "model_name": "HBoxModel",
          "state": {
            "_dom_classes": [],
            "_model_module": "@jupyter-widgets/controls",
            "_model_module_version": "1.5.0",
            "_model_name": "HBoxModel",
            "_view_count": null,
            "_view_module": "@jupyter-widgets/controls",
            "_view_module_version": "1.5.0",
            "_view_name": "HBoxView",
            "box_style": "",
            "children": [
              "IPY_MODEL_61303f2a3e5744a29afb1808ca896fc9",
              "IPY_MODEL_7ce181f46e364e6597e72b7a1c2a1ac5",
              "IPY_MODEL_2602f3e7918b4ce1abd792b1f34d5284"
            ],
            "layout": "IPY_MODEL_183fb4c9676246328e7d74a1aca77ff5"
          }
        },
        "17eae29d1237477999e9a19e02c96d4b": {
          "model_module": "@jupyter-widgets/controls",
          "model_module_version": "1.5.0",
          "model_name": "HTMLModel",
          "state": {
            "_dom_classes": [],
            "_model_module": "@jupyter-widgets/controls",
            "_model_module_version": "1.5.0",
            "_model_name": "HTMLModel",
            "_view_count": null,
            "_view_module": "@jupyter-widgets/controls",
            "_view_module_version": "1.5.0",
            "_view_name": "HTMLView",
            "description": "",
            "description_tooltip": null,
            "layout": "IPY_MODEL_b6c63d31bb924ee883dfed9bfc6e0964",
            "placeholder": "​",
            "style": "IPY_MODEL_5247c530e4b24ab09ec5e45fb0ab0fd6",
            "value": "Map: 100%"
          }
        },
        "183fb4c9676246328e7d74a1aca77ff5": {
          "model_module": "@jupyter-widgets/base",
          "model_module_version": "1.2.0",
          "model_name": "LayoutModel",
          "state": {
            "_model_module": "@jupyter-widgets/base",
            "_model_module_version": "1.2.0",
            "_model_name": "LayoutModel",
            "_view_count": null,
            "_view_module": "@jupyter-widgets/base",
            "_view_module_version": "1.2.0",
            "_view_name": "LayoutView",
            "align_content": null,
            "align_items": null,
            "align_self": null,
            "border": null,
            "bottom": null,
            "display": null,
            "flex": null,
            "flex_flow": null,
            "grid_area": null,
            "grid_auto_columns": null,
            "grid_auto_flow": null,
            "grid_auto_rows": null,
            "grid_column": null,
            "grid_gap": null,
            "grid_row": null,
            "grid_template_areas": null,
            "grid_template_columns": null,
            "grid_template_rows": null,
            "height": null,
            "justify_content": null,
            "justify_items": null,
            "left": null,
            "margin": null,
            "max_height": null,
            "max_width": null,
            "min_height": null,
            "min_width": null,
            "object_fit": null,
            "object_position": null,
            "order": null,
            "overflow": null,
            "overflow_x": null,
            "overflow_y": null,
            "padding": null,
            "right": null,
            "top": null,
            "visibility": null,
            "width": null
          }
        },
        "1a2e798f674b47af805cb6658f6ab41f": {
          "model_module": "@jupyter-widgets/controls",
          "model_module_version": "1.5.0",
          "model_name": "ProgressStyleModel",
          "state": {
            "_model_module": "@jupyter-widgets/controls",
            "_model_module_version": "1.5.0",
            "_model_name": "ProgressStyleModel",
            "_view_count": null,
            "_view_module": "@jupyter-widgets/base",
            "_view_module_version": "1.2.0",
            "_view_name": "StyleView",
            "bar_color": null,
            "description_width": ""
          }
        },
        "2602f3e7918b4ce1abd792b1f34d5284": {
          "model_module": "@jupyter-widgets/controls",
          "model_module_version": "1.5.0",
          "model_name": "HTMLModel",
          "state": {
            "_dom_classes": [],
            "_model_module": "@jupyter-widgets/controls",
            "_model_module_version": "1.5.0",
            "_model_name": "HTMLModel",
            "_view_count": null,
            "_view_module": "@jupyter-widgets/controls",
            "_view_module_version": "1.5.0",
            "_view_name": "HTMLView",
            "description": "",
            "description_tooltip": null,
            "layout": "IPY_MODEL_5fc425515d8d4ee1b2634b8d687bbc27",
            "placeholder": "​",
            "style": "IPY_MODEL_a3a34fd8caeb4210af1545e7256246d1",
            "value": " 745/745 [00:18&lt;00:00, 41.18 examples/s]"
          }
        },
        "32d948d5034d4b018664054b8dcaf9e3": {
          "model_module": "@jupyter-widgets/controls",
          "model_module_version": "1.5.0",
          "model_name": "ProgressStyleModel",
          "state": {
            "_model_module": "@jupyter-widgets/controls",
            "_model_module_version": "1.5.0",
            "_model_name": "ProgressStyleModel",
            "_view_count": null,
            "_view_module": "@jupyter-widgets/base",
            "_view_module_version": "1.2.0",
            "_view_name": "StyleView",
            "bar_color": null,
            "description_width": ""
          }
        },
        "3f58e1e7db4643a59fe69bcbc81bb712": {
          "model_module": "@jupyter-widgets/base",
          "model_module_version": "1.2.0",
          "model_name": "LayoutModel",
          "state": {
            "_model_module": "@jupyter-widgets/base",
            "_model_module_version": "1.2.0",
            "_model_name": "LayoutModel",
            "_view_count": null,
            "_view_module": "@jupyter-widgets/base",
            "_view_module_version": "1.2.0",
            "_view_name": "LayoutView",
            "align_content": null,
            "align_items": null,
            "align_self": null,
            "border": null,
            "bottom": null,
            "display": null,
            "flex": null,
            "flex_flow": null,
            "grid_area": null,
            "grid_auto_columns": null,
            "grid_auto_flow": null,
            "grid_auto_rows": null,
            "grid_column": null,
            "grid_gap": null,
            "grid_row": null,
            "grid_template_areas": null,
            "grid_template_columns": null,
            "grid_template_rows": null,
            "height": null,
            "justify_content": null,
            "justify_items": null,
            "left": null,
            "margin": null,
            "max_height": null,
            "max_width": null,
            "min_height": null,
            "min_width": null,
            "object_fit": null,
            "object_position": null,
            "order": null,
            "overflow": null,
            "overflow_x": null,
            "overflow_y": null,
            "padding": null,
            "right": null,
            "top": null,
            "visibility": null,
            "width": null
          }
        },
        "430a1d36812b4825b709af3a2212eaf2": {
          "model_module": "@jupyter-widgets/controls",
          "model_module_version": "1.5.0",
          "model_name": "DescriptionStyleModel",
          "state": {
            "_model_module": "@jupyter-widgets/controls",
            "_model_module_version": "1.5.0",
            "_model_name": "DescriptionStyleModel",
            "_view_count": null,
            "_view_module": "@jupyter-widgets/base",
            "_view_module_version": "1.2.0",
            "_view_name": "StyleView",
            "description_width": ""
          }
        },
        "462ac52d83694e82bb6fa0084bdc4ba7": {
          "model_module": "@jupyter-widgets/base",
          "model_module_version": "1.2.0",
          "model_name": "LayoutModel",
          "state": {
            "_model_module": "@jupyter-widgets/base",
            "_model_module_version": "1.2.0",
            "_model_name": "LayoutModel",
            "_view_count": null,
            "_view_module": "@jupyter-widgets/base",
            "_view_module_version": "1.2.0",
            "_view_name": "LayoutView",
            "align_content": null,
            "align_items": null,
            "align_self": null,
            "border": null,
            "bottom": null,
            "display": null,
            "flex": null,
            "flex_flow": null,
            "grid_area": null,
            "grid_auto_columns": null,
            "grid_auto_flow": null,
            "grid_auto_rows": null,
            "grid_column": null,
            "grid_gap": null,
            "grid_row": null,
            "grid_template_areas": null,
            "grid_template_columns": null,
            "grid_template_rows": null,
            "height": null,
            "justify_content": null,
            "justify_items": null,
            "left": null,
            "margin": null,
            "max_height": null,
            "max_width": null,
            "min_height": null,
            "min_width": null,
            "object_fit": null,
            "object_position": null,
            "order": null,
            "overflow": null,
            "overflow_x": null,
            "overflow_y": null,
            "padding": null,
            "right": null,
            "top": null,
            "visibility": null,
            "width": null
          }
        },
        "5247c530e4b24ab09ec5e45fb0ab0fd6": {
          "model_module": "@jupyter-widgets/controls",
          "model_module_version": "1.5.0",
          "model_name": "DescriptionStyleModel",
          "state": {
            "_model_module": "@jupyter-widgets/controls",
            "_model_module_version": "1.5.0",
            "_model_name": "DescriptionStyleModel",
            "_view_count": null,
            "_view_module": "@jupyter-widgets/base",
            "_view_module_version": "1.2.0",
            "_view_name": "StyleView",
            "description_width": ""
          }
        },
        "5bccc9af787846be95a43b2d272644ef": {
          "model_module": "@jupyter-widgets/base",
          "model_module_version": "1.2.0",
          "model_name": "LayoutModel",
          "state": {
            "_model_module": "@jupyter-widgets/base",
            "_model_module_version": "1.2.0",
            "_model_name": "LayoutModel",
            "_view_count": null,
            "_view_module": "@jupyter-widgets/base",
            "_view_module_version": "1.2.0",
            "_view_name": "LayoutView",
            "align_content": null,
            "align_items": null,
            "align_self": null,
            "border": null,
            "bottom": null,
            "display": null,
            "flex": null,
            "flex_flow": null,
            "grid_area": null,
            "grid_auto_columns": null,
            "grid_auto_flow": null,
            "grid_auto_rows": null,
            "grid_column": null,
            "grid_gap": null,
            "grid_row": null,
            "grid_template_areas": null,
            "grid_template_columns": null,
            "grid_template_rows": null,
            "height": null,
            "justify_content": null,
            "justify_items": null,
            "left": null,
            "margin": null,
            "max_height": null,
            "max_width": null,
            "min_height": null,
            "min_width": null,
            "object_fit": null,
            "object_position": null,
            "order": null,
            "overflow": null,
            "overflow_x": null,
            "overflow_y": null,
            "padding": null,
            "right": null,
            "top": null,
            "visibility": null,
            "width": null
          }
        },
        "5fc425515d8d4ee1b2634b8d687bbc27": {
          "model_module": "@jupyter-widgets/base",
          "model_module_version": "1.2.0",
          "model_name": "LayoutModel",
          "state": {
            "_model_module": "@jupyter-widgets/base",
            "_model_module_version": "1.2.0",
            "_model_name": "LayoutModel",
            "_view_count": null,
            "_view_module": "@jupyter-widgets/base",
            "_view_module_version": "1.2.0",
            "_view_name": "LayoutView",
            "align_content": null,
            "align_items": null,
            "align_self": null,
            "border": null,
            "bottom": null,
            "display": null,
            "flex": null,
            "flex_flow": null,
            "grid_area": null,
            "grid_auto_columns": null,
            "grid_auto_flow": null,
            "grid_auto_rows": null,
            "grid_column": null,
            "grid_gap": null,
            "grid_row": null,
            "grid_template_areas": null,
            "grid_template_columns": null,
            "grid_template_rows": null,
            "height": null,
            "justify_content": null,
            "justify_items": null,
            "left": null,
            "margin": null,
            "max_height": null,
            "max_width": null,
            "min_height": null,
            "min_width": null,
            "object_fit": null,
            "object_position": null,
            "order": null,
            "overflow": null,
            "overflow_x": null,
            "overflow_y": null,
            "padding": null,
            "right": null,
            "top": null,
            "visibility": null,
            "width": null
          }
        },
        "61303f2a3e5744a29afb1808ca896fc9": {
          "model_module": "@jupyter-widgets/controls",
          "model_module_version": "1.5.0",
          "model_name": "HTMLModel",
          "state": {
            "_dom_classes": [],
            "_model_module": "@jupyter-widgets/controls",
            "_model_module_version": "1.5.0",
            "_model_name": "HTMLModel",
            "_view_count": null,
            "_view_module": "@jupyter-widgets/controls",
            "_view_module_version": "1.5.0",
            "_view_name": "HTMLView",
            "description": "",
            "description_tooltip": null,
            "layout": "IPY_MODEL_f0c63127de764afcb145b39643800cab",
            "placeholder": "​",
            "style": "IPY_MODEL_6d3730388482442db0e2c55ca31cf1bc",
            "value": "Map: 100%"
          }
        },
        "6d3730388482442db0e2c55ca31cf1bc": {
          "model_module": "@jupyter-widgets/controls",
          "model_module_version": "1.5.0",
          "model_name": "DescriptionStyleModel",
          "state": {
            "_model_module": "@jupyter-widgets/controls",
            "_model_module_version": "1.5.0",
            "_model_name": "DescriptionStyleModel",
            "_view_count": null,
            "_view_module": "@jupyter-widgets/base",
            "_view_module_version": "1.2.0",
            "_view_name": "StyleView",
            "description_width": ""
          }
        },
        "797a53a0999b48ae842b061a422ebd56": {
          "model_module": "@jupyter-widgets/base",
          "model_module_version": "1.2.0",
          "model_name": "LayoutModel",
          "state": {
            "_model_module": "@jupyter-widgets/base",
            "_model_module_version": "1.2.0",
            "_model_name": "LayoutModel",
            "_view_count": null,
            "_view_module": "@jupyter-widgets/base",
            "_view_module_version": "1.2.0",
            "_view_name": "LayoutView",
            "align_content": null,
            "align_items": null,
            "align_self": null,
            "border": null,
            "bottom": null,
            "display": null,
            "flex": null,
            "flex_flow": null,
            "grid_area": null,
            "grid_auto_columns": null,
            "grid_auto_flow": null,
            "grid_auto_rows": null,
            "grid_column": null,
            "grid_gap": null,
            "grid_row": null,
            "grid_template_areas": null,
            "grid_template_columns": null,
            "grid_template_rows": null,
            "height": null,
            "justify_content": null,
            "justify_items": null,
            "left": null,
            "margin": null,
            "max_height": null,
            "max_width": null,
            "min_height": null,
            "min_width": null,
            "object_fit": null,
            "object_position": null,
            "order": null,
            "overflow": null,
            "overflow_x": null,
            "overflow_y": null,
            "padding": null,
            "right": null,
            "top": null,
            "visibility": null,
            "width": null
          }
        },
        "7ce181f46e364e6597e72b7a1c2a1ac5": {
          "model_module": "@jupyter-widgets/controls",
          "model_module_version": "1.5.0",
          "model_name": "FloatProgressModel",
          "state": {
            "_dom_classes": [],
            "_model_module": "@jupyter-widgets/controls",
            "_model_module_version": "1.5.0",
            "_model_name": "FloatProgressModel",
            "_view_count": null,
            "_view_module": "@jupyter-widgets/controls",
            "_view_module_version": "1.5.0",
            "_view_name": "ProgressView",
            "bar_style": "success",
            "description": "",
            "description_tooltip": null,
            "layout": "IPY_MODEL_894d572f113148c8882dedfd8f406921",
            "max": 745,
            "min": 0,
            "orientation": "horizontal",
            "style": "IPY_MODEL_b64a5d8b76434829ba6e255bd465945f",
            "value": 745
          }
        },
        "81fcefc38cfd4434b34b7fe3a1bf5f8c": {
          "model_module": "@jupyter-widgets/controls",
          "model_module_version": "1.5.0",
          "model_name": "HTMLModel",
          "state": {
            "_dom_classes": [],
            "_model_module": "@jupyter-widgets/controls",
            "_model_module_version": "1.5.0",
            "_model_name": "HTMLModel",
            "_view_count": null,
            "_view_module": "@jupyter-widgets/controls",
            "_view_module_version": "1.5.0",
            "_view_name": "HTMLView",
            "description": "",
            "description_tooltip": null,
            "layout": "IPY_MODEL_c6dab8c45b674c0eb96fc3c9fd543cb7",
            "placeholder": "​",
            "style": "IPY_MODEL_ff54e8200172415d8b0232832c63c221",
            "value": " 2381/2381 [01:36&lt;00:00, 24.78 examples/s]"
          }
        },
        "894d572f113148c8882dedfd8f406921": {
          "model_module": "@jupyter-widgets/base",
          "model_module_version": "1.2.0",
          "model_name": "LayoutModel",
          "state": {
            "_model_module": "@jupyter-widgets/base",
            "_model_module_version": "1.2.0",
            "_model_name": "LayoutModel",
            "_view_count": null,
            "_view_module": "@jupyter-widgets/base",
            "_view_module_version": "1.2.0",
            "_view_name": "LayoutView",
            "align_content": null,
            "align_items": null,
            "align_self": null,
            "border": null,
            "bottom": null,
            "display": null,
            "flex": null,
            "flex_flow": null,
            "grid_area": null,
            "grid_auto_columns": null,
            "grid_auto_flow": null,
            "grid_auto_rows": null,
            "grid_column": null,
            "grid_gap": null,
            "grid_row": null,
            "grid_template_areas": null,
            "grid_template_columns": null,
            "grid_template_rows": null,
            "height": null,
            "justify_content": null,
            "justify_items": null,
            "left": null,
            "margin": null,
            "max_height": null,
            "max_width": null,
            "min_height": null,
            "min_width": null,
            "object_fit": null,
            "object_position": null,
            "order": null,
            "overflow": null,
            "overflow_x": null,
            "overflow_y": null,
            "padding": null,
            "right": null,
            "top": null,
            "visibility": null,
            "width": null
          }
        },
        "932f2b72936244e780c6423a0212e928": {
          "model_module": "@jupyter-widgets/controls",
          "model_module_version": "1.5.0",
          "model_name": "HTMLModel",
          "state": {
            "_dom_classes": [],
            "_model_module": "@jupyter-widgets/controls",
            "_model_module_version": "1.5.0",
            "_model_name": "HTMLModel",
            "_view_count": null,
            "_view_module": "@jupyter-widgets/controls",
            "_view_module_version": "1.5.0",
            "_view_name": "HTMLView",
            "description": "",
            "description_tooltip": null,
            "layout": "IPY_MODEL_5bccc9af787846be95a43b2d272644ef",
            "placeholder": "​",
            "style": "IPY_MODEL_ccd54f5ebf8d4c34949cef52c5b9f2b4",
            "value": " 596/596 [00:15&lt;00:00, 38.15 examples/s]"
          }
        },
        "a3a34fd8caeb4210af1545e7256246d1": {
          "model_module": "@jupyter-widgets/controls",
          "model_module_version": "1.5.0",
          "model_name": "DescriptionStyleModel",
          "state": {
            "_model_module": "@jupyter-widgets/controls",
            "_model_module_version": "1.5.0",
            "_model_name": "DescriptionStyleModel",
            "_view_count": null,
            "_view_module": "@jupyter-widgets/base",
            "_view_module_version": "1.2.0",
            "_view_name": "StyleView",
            "description_width": ""
          }
        },
        "a3ee3f4308c24fffb5cd8c2953d21692": {
          "model_module": "@jupyter-widgets/controls",
          "model_module_version": "1.5.0",
          "model_name": "HTMLModel",
          "state": {
            "_dom_classes": [],
            "_model_module": "@jupyter-widgets/controls",
            "_model_module_version": "1.5.0",
            "_model_name": "HTMLModel",
            "_view_count": null,
            "_view_module": "@jupyter-widgets/controls",
            "_view_module_version": "1.5.0",
            "_view_name": "HTMLView",
            "description": "",
            "description_tooltip": null,
            "layout": "IPY_MODEL_797a53a0999b48ae842b061a422ebd56",
            "placeholder": "​",
            "style": "IPY_MODEL_430a1d36812b4825b709af3a2212eaf2",
            "value": "Map: 100%"
          }
        },
        "b64a5d8b76434829ba6e255bd465945f": {
          "model_module": "@jupyter-widgets/controls",
          "model_module_version": "1.5.0",
          "model_name": "ProgressStyleModel",
          "state": {
            "_model_module": "@jupyter-widgets/controls",
            "_model_module_version": "1.5.0",
            "_model_name": "ProgressStyleModel",
            "_view_count": null,
            "_view_module": "@jupyter-widgets/base",
            "_view_module_version": "1.2.0",
            "_view_name": "StyleView",
            "bar_color": null,
            "description_width": ""
          }
        },
        "b6c63d31bb924ee883dfed9bfc6e0964": {
          "model_module": "@jupyter-widgets/base",
          "model_module_version": "1.2.0",
          "model_name": "LayoutModel",
          "state": {
            "_model_module": "@jupyter-widgets/base",
            "_model_module_version": "1.2.0",
            "_model_name": "LayoutModel",
            "_view_count": null,
            "_view_module": "@jupyter-widgets/base",
            "_view_module_version": "1.2.0",
            "_view_name": "LayoutView",
            "align_content": null,
            "align_items": null,
            "align_self": null,
            "border": null,
            "bottom": null,
            "display": null,
            "flex": null,
            "flex_flow": null,
            "grid_area": null,
            "grid_auto_columns": null,
            "grid_auto_flow": null,
            "grid_auto_rows": null,
            "grid_column": null,
            "grid_gap": null,
            "grid_row": null,
            "grid_template_areas": null,
            "grid_template_columns": null,
            "grid_template_rows": null,
            "height": null,
            "justify_content": null,
            "justify_items": null,
            "left": null,
            "margin": null,
            "max_height": null,
            "max_width": null,
            "min_height": null,
            "min_width": null,
            "object_fit": null,
            "object_position": null,
            "order": null,
            "overflow": null,
            "overflow_x": null,
            "overflow_y": null,
            "padding": null,
            "right": null,
            "top": null,
            "visibility": null,
            "width": null
          }
        },
        "c33374c3e8324f40abb874338dfe295c": {
          "model_module": "@jupyter-widgets/controls",
          "model_module_version": "1.5.0",
          "model_name": "HBoxModel",
          "state": {
            "_dom_classes": [],
            "_model_module": "@jupyter-widgets/controls",
            "_model_module_version": "1.5.0",
            "_model_name": "HBoxModel",
            "_view_count": null,
            "_view_module": "@jupyter-widgets/controls",
            "_view_module_version": "1.5.0",
            "_view_name": "HBoxView",
            "box_style": "",
            "children": [
              "IPY_MODEL_17eae29d1237477999e9a19e02c96d4b",
              "IPY_MODEL_f1b2f73ff8a6430d9c0618aa9c21f854",
              "IPY_MODEL_932f2b72936244e780c6423a0212e928"
            ],
            "layout": "IPY_MODEL_462ac52d83694e82bb6fa0084bdc4ba7"
          }
        },
        "c6dab8c45b674c0eb96fc3c9fd543cb7": {
          "model_module": "@jupyter-widgets/base",
          "model_module_version": "1.2.0",
          "model_name": "LayoutModel",
          "state": {
            "_model_module": "@jupyter-widgets/base",
            "_model_module_version": "1.2.0",
            "_model_name": "LayoutModel",
            "_view_count": null,
            "_view_module": "@jupyter-widgets/base",
            "_view_module_version": "1.2.0",
            "_view_name": "LayoutView",
            "align_content": null,
            "align_items": null,
            "align_self": null,
            "border": null,
            "bottom": null,
            "display": null,
            "flex": null,
            "flex_flow": null,
            "grid_area": null,
            "grid_auto_columns": null,
            "grid_auto_flow": null,
            "grid_auto_rows": null,
            "grid_column": null,
            "grid_gap": null,
            "grid_row": null,
            "grid_template_areas": null,
            "grid_template_columns": null,
            "grid_template_rows": null,
            "height": null,
            "justify_content": null,
            "justify_items": null,
            "left": null,
            "margin": null,
            "max_height": null,
            "max_width": null,
            "min_height": null,
            "min_width": null,
            "object_fit": null,
            "object_position": null,
            "order": null,
            "overflow": null,
            "overflow_x": null,
            "overflow_y": null,
            "padding": null,
            "right": null,
            "top": null,
            "visibility": null,
            "width": null
          }
        },
        "ccd54f5ebf8d4c34949cef52c5b9f2b4": {
          "model_module": "@jupyter-widgets/controls",
          "model_module_version": "1.5.0",
          "model_name": "DescriptionStyleModel",
          "state": {
            "_model_module": "@jupyter-widgets/controls",
            "_model_module_version": "1.5.0",
            "_model_name": "DescriptionStyleModel",
            "_view_count": null,
            "_view_module": "@jupyter-widgets/base",
            "_view_module_version": "1.2.0",
            "_view_name": "StyleView",
            "description_width": ""
          }
        },
        "ebe3eb6e0ac44613966eff2ba2bb47ea": {
          "model_module": "@jupyter-widgets/controls",
          "model_module_version": "1.5.0",
          "model_name": "HBoxModel",
          "state": {
            "_dom_classes": [],
            "_model_module": "@jupyter-widgets/controls",
            "_model_module_version": "1.5.0",
            "_model_name": "HBoxModel",
            "_view_count": null,
            "_view_module": "@jupyter-widgets/controls",
            "_view_module_version": "1.5.0",
            "_view_name": "HBoxView",
            "box_style": "",
            "children": [
              "IPY_MODEL_a3ee3f4308c24fffb5cd8c2953d21692",
              "IPY_MODEL_109054b6f7fe4559b0a0709819ea4e75",
              "IPY_MODEL_81fcefc38cfd4434b34b7fe3a1bf5f8c"
            ],
            "layout": "IPY_MODEL_3f58e1e7db4643a59fe69bcbc81bb712"
          }
        },
        "f0c63127de764afcb145b39643800cab": {
          "model_module": "@jupyter-widgets/base",
          "model_module_version": "1.2.0",
          "model_name": "LayoutModel",
          "state": {
            "_model_module": "@jupyter-widgets/base",
            "_model_module_version": "1.2.0",
            "_model_name": "LayoutModel",
            "_view_count": null,
            "_view_module": "@jupyter-widgets/base",
            "_view_module_version": "1.2.0",
            "_view_name": "LayoutView",
            "align_content": null,
            "align_items": null,
            "align_self": null,
            "border": null,
            "bottom": null,
            "display": null,
            "flex": null,
            "flex_flow": null,
            "grid_area": null,
            "grid_auto_columns": null,
            "grid_auto_flow": null,
            "grid_auto_rows": null,
            "grid_column": null,
            "grid_gap": null,
            "grid_row": null,
            "grid_template_areas": null,
            "grid_template_columns": null,
            "grid_template_rows": null,
            "height": null,
            "justify_content": null,
            "justify_items": null,
            "left": null,
            "margin": null,
            "max_height": null,
            "max_width": null,
            "min_height": null,
            "min_width": null,
            "object_fit": null,
            "object_position": null,
            "order": null,
            "overflow": null,
            "overflow_x": null,
            "overflow_y": null,
            "padding": null,
            "right": null,
            "top": null,
            "visibility": null,
            "width": null
          }
        },
        "f1b2f73ff8a6430d9c0618aa9c21f854": {
          "model_module": "@jupyter-widgets/controls",
          "model_module_version": "1.5.0",
          "model_name": "FloatProgressModel",
          "state": {
            "_dom_classes": [],
            "_model_module": "@jupyter-widgets/controls",
            "_model_module_version": "1.5.0",
            "_model_name": "FloatProgressModel",
            "_view_count": null,
            "_view_module": "@jupyter-widgets/controls",
            "_view_module_version": "1.5.0",
            "_view_name": "ProgressView",
            "bar_style": "success",
            "description": "",
            "description_tooltip": null,
            "layout": "IPY_MODEL_0af49ff274ec49faabbcdef86ad57f17",
            "max": 596,
            "min": 0,
            "orientation": "horizontal",
            "style": "IPY_MODEL_1a2e798f674b47af805cb6658f6ab41f",
            "value": 596
          }
        },
        "fe3affa07be443979e008195d324c770": {
          "model_module": "@jupyter-widgets/base",
          "model_module_version": "1.2.0",
          "model_name": "LayoutModel",
          "state": {
            "_model_module": "@jupyter-widgets/base",
            "_model_module_version": "1.2.0",
            "_model_name": "LayoutModel",
            "_view_count": null,
            "_view_module": "@jupyter-widgets/base",
            "_view_module_version": "1.2.0",
            "_view_name": "LayoutView",
            "align_content": null,
            "align_items": null,
            "align_self": null,
            "border": null,
            "bottom": null,
            "display": null,
            "flex": null,
            "flex_flow": null,
            "grid_area": null,
            "grid_auto_columns": null,
            "grid_auto_flow": null,
            "grid_auto_rows": null,
            "grid_column": null,
            "grid_gap": null,
            "grid_row": null,
            "grid_template_areas": null,
            "grid_template_columns": null,
            "grid_template_rows": null,
            "height": null,
            "justify_content": null,
            "justify_items": null,
            "left": null,
            "margin": null,
            "max_height": null,
            "max_width": null,
            "min_height": null,
            "min_width": null,
            "object_fit": null,
            "object_position": null,
            "order": null,
            "overflow": null,
            "overflow_x": null,
            "overflow_y": null,
            "padding": null,
            "right": null,
            "top": null,
            "visibility": null,
            "width": null
          }
        },
        "ff54e8200172415d8b0232832c63c221": {
          "model_module": "@jupyter-widgets/controls",
          "model_module_version": "1.5.0",
          "model_name": "DescriptionStyleModel",
          "state": {
            "_model_module": "@jupyter-widgets/controls",
            "_model_module_version": "1.5.0",
            "_model_name": "DescriptionStyleModel",
            "_view_count": null,
            "_view_module": "@jupyter-widgets/base",
            "_view_module_version": "1.2.0",
            "_view_name": "StyleView",
            "description_width": ""
          }
        }
      }
    }
  },
  "nbformat": 4,
  "nbformat_minor": 0
}